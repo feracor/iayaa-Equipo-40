{
  "cells": [
    {
      "cell_type": "markdown",
      "metadata": {
        "id": "view-in-github",
        "colab_type": "text"
      },
      "source": [
        "<a href=\"https://colab.research.google.com/github/feracor/iayaa-Equipo-40/blob/main/Redneuronal_Equipo40.ipynb\" target=\"_parent\"><img src=\"https://colab.research.google.com/assets/colab-badge.svg\" alt=\"Open In Colab\"/></a>"
      ]
    },
    {
      "cell_type": "markdown",
      "metadata": {
        "id": "VFj0sSM06dYa"
      },
      "source": [
        "#**Maestría en Inteligencia Artificial Aplicada**\n",
        "##**Curso: Inteligencia Artificial y Aprendizaje Automático**\n",
        "###Tecnológico de Monterrey\n",
        "###Prof Luis Eduardo Falcón Morales\n",
        "\n",
        "## **Adtividad de la Semana 7**\n",
        "###**Red Neuronal Artificial - Perceptrón Multicapa : Multilayer Perceptrón (MLP)**\n"
      ]
    },
    {
      "cell_type": "markdown",
      "metadata": {
        "id": "Qgrvy0RGB9XI"
      },
      "source": [
        "**Nombres y matrículas de los integrantes del equipo:**\n",
        "\n",
        "*  Alexis Hernández Martínez - A01016308 \n",
        "* José Fabricio Barahona Amaya. Matrícula # A01792950\n",
        "* Giovanni Andrés Acuña Morales. Matrícula #A01794007\n",
        "* Fernando Acevedo Ortegate. Matrícula # A01794022\n",
        "* Fausto Velasco Atilano. Matricula #A01794392   \n"
      ]
    },
    {
      "cell_type": "markdown",
      "metadata": {
        "id": "FrJ2ahMODVj1"
      },
      "source": [
        "En cada sección deberás incluir todas las líneas de código necesarias para responder a cada uno de los ejercicios."
      ]
    },
    {
      "cell_type": "code",
      "execution_count": null,
      "metadata": {
        "id": "exXsscs-Dh-2"
      },
      "outputs": [],
      "source": [
        "# Incluye aquí todos módulos, librerías y paquetes que requieras.\n",
        "\n",
        "import numpy as np\n",
        "import pandas as pd\n",
        "import seaborn as sns\n",
        "\n",
        "from sklearn.model_selection import train_test_split \n",
        "\n",
        "from sklearn.pipeline import Pipeline\n",
        "from sklearn.compose import ColumnTransformer\n",
        "from sklearn.impute import SimpleImputer\n",
        "from sklearn.preprocessing import OneHotEncoder, MinMaxScaler\n",
        "from sklearn.preprocessing import StandardScaler\n",
        "from sklearn.compose import make_column_selector\n",
        "\n",
        "from sklearn.dummy import DummyClassifier \n",
        "\n",
        "from sklearn.dummy import DummyRegressor\n",
        "from sklearn.neural_network import MLPRegressor\n",
        "\n",
        "\n",
        "from sklearn.model_selection import cross_val_score\n",
        "from sklearn.model_selection import  cross_validate,  RepeatedStratifiedKFold \n",
        "\n",
        "from sklearn.linear_model import LogisticRegression\n",
        "from sklearn.tree import DecisionTreeClassifier\n",
        "from sklearn.ensemble import RandomForestClassifier\n",
        "from sklearn.ensemble import RandomForestRegressor\n",
        "\n",
        "from sklearn.metrics import fbeta_score, make_scorer\n",
        "import matplotlib.pyplot as plt\n",
        "\n",
        "from sklearn.model_selection import GridSearchCV\n",
        "from sklearn.inspection import permutation_importance\n",
        "\n",
        "from sklearn.preprocessing import FunctionTransformer\n",
        "from sklearn.preprocessing import power_transform\n",
        "from sklearn.preprocessing import PowerTransformer\n",
        "\n",
        "from sklearn.compose import TransformedTargetRegressor\n",
        "from sklearn.model_selection import RepeatedKFold\n",
        "\n",
        "from sklearn.linear_model import LinearRegression\n"
      ]
    },
    {
      "cell_type": "markdown",
      "metadata": {
        "id": "X25brD-gQdZM"
      },
      "source": [
        "#**Ejercicio-1.** \n",
        "\n",
        "1. En esta tarea considera únicamente la siguiente variable de salida que se concluye que es una de las mejores en el artículo antes citado: ‘Lifetime People who have liked a Page and engaged with a post'. Renombra dicha variable como “LPE” . Como variables de entrada selecciona las 7 variables que indican los autores en la Tabla 3 del artículo citado."
      ]
    },
    {
      "cell_type": "code",
      "execution_count": null,
      "metadata": {
        "id": "0ulkqXVGCy97",
        "scrolled": true,
        "outputId": "d994443b-2437-49e7-912a-8cda9b512c19"
      },
      "outputs": [
        {
          "data": {
            "text/html": [
              "<div>\n",
              "<style scoped>\n",
              "    .dataframe tbody tr th:only-of-type {\n",
              "        vertical-align: middle;\n",
              "    }\n",
              "\n",
              "    .dataframe tbody tr th {\n",
              "        vertical-align: top;\n",
              "    }\n",
              "\n",
              "    .dataframe thead th {\n",
              "        text-align: right;\n",
              "    }\n",
              "</style>\n",
              "<table border=\"1\" class=\"dataframe\">\n",
              "  <thead>\n",
              "    <tr style=\"text-align: right;\">\n",
              "      <th></th>\n",
              "      <th>Page total likes</th>\n",
              "      <th>Type</th>\n",
              "      <th>Category</th>\n",
              "      <th>Post Month</th>\n",
              "      <th>Post Weekday</th>\n",
              "      <th>Post Hour</th>\n",
              "      <th>Paid</th>\n",
              "      <th>Lifetime Post Total Reach</th>\n",
              "      <th>Lifetime Post Total Impressions</th>\n",
              "      <th>Lifetime Engaged Users</th>\n",
              "      <th>Lifetime Post Consumers</th>\n",
              "      <th>Lifetime Post Consumptions</th>\n",
              "      <th>Lifetime Post Impressions by people who have liked your Page</th>\n",
              "      <th>Lifetime Post reach by people who like your Page</th>\n",
              "      <th>Lifetime People who have liked your Page and engaged with your post</th>\n",
              "      <th>comment</th>\n",
              "      <th>like</th>\n",
              "      <th>share</th>\n",
              "      <th>Total Interactions</th>\n",
              "    </tr>\n",
              "  </thead>\n",
              "  <tbody>\n",
              "    <tr>\n",
              "      <th>0</th>\n",
              "      <td>139441</td>\n",
              "      <td>Photo</td>\n",
              "      <td>2</td>\n",
              "      <td>12</td>\n",
              "      <td>4</td>\n",
              "      <td>3</td>\n",
              "      <td>0.0</td>\n",
              "      <td>2752</td>\n",
              "      <td>5091</td>\n",
              "      <td>178</td>\n",
              "      <td>109</td>\n",
              "      <td>159</td>\n",
              "      <td>3078</td>\n",
              "      <td>1640</td>\n",
              "      <td>119</td>\n",
              "      <td>4</td>\n",
              "      <td>79.0</td>\n",
              "      <td>17.0</td>\n",
              "      <td>100</td>\n",
              "    </tr>\n",
              "    <tr>\n",
              "      <th>1</th>\n",
              "      <td>139441</td>\n",
              "      <td>Status</td>\n",
              "      <td>2</td>\n",
              "      <td>12</td>\n",
              "      <td>3</td>\n",
              "      <td>10</td>\n",
              "      <td>0.0</td>\n",
              "      <td>10460</td>\n",
              "      <td>19057</td>\n",
              "      <td>1457</td>\n",
              "      <td>1361</td>\n",
              "      <td>1674</td>\n",
              "      <td>11710</td>\n",
              "      <td>6112</td>\n",
              "      <td>1108</td>\n",
              "      <td>5</td>\n",
              "      <td>130.0</td>\n",
              "      <td>29.0</td>\n",
              "      <td>164</td>\n",
              "    </tr>\n",
              "    <tr>\n",
              "      <th>2</th>\n",
              "      <td>139441</td>\n",
              "      <td>Photo</td>\n",
              "      <td>3</td>\n",
              "      <td>12</td>\n",
              "      <td>3</td>\n",
              "      <td>3</td>\n",
              "      <td>0.0</td>\n",
              "      <td>2413</td>\n",
              "      <td>4373</td>\n",
              "      <td>177</td>\n",
              "      <td>113</td>\n",
              "      <td>154</td>\n",
              "      <td>2812</td>\n",
              "      <td>1503</td>\n",
              "      <td>132</td>\n",
              "      <td>0</td>\n",
              "      <td>66.0</td>\n",
              "      <td>14.0</td>\n",
              "      <td>80</td>\n",
              "    </tr>\n",
              "    <tr>\n",
              "      <th>3</th>\n",
              "      <td>139441</td>\n",
              "      <td>Photo</td>\n",
              "      <td>2</td>\n",
              "      <td>12</td>\n",
              "      <td>2</td>\n",
              "      <td>10</td>\n",
              "      <td>1.0</td>\n",
              "      <td>50128</td>\n",
              "      <td>87991</td>\n",
              "      <td>2211</td>\n",
              "      <td>790</td>\n",
              "      <td>1119</td>\n",
              "      <td>61027</td>\n",
              "      <td>32048</td>\n",
              "      <td>1386</td>\n",
              "      <td>58</td>\n",
              "      <td>1572.0</td>\n",
              "      <td>147.0</td>\n",
              "      <td>1777</td>\n",
              "    </tr>\n",
              "    <tr>\n",
              "      <th>4</th>\n",
              "      <td>139441</td>\n",
              "      <td>Photo</td>\n",
              "      <td>2</td>\n",
              "      <td>12</td>\n",
              "      <td>2</td>\n",
              "      <td>3</td>\n",
              "      <td>0.0</td>\n",
              "      <td>7244</td>\n",
              "      <td>13594</td>\n",
              "      <td>671</td>\n",
              "      <td>410</td>\n",
              "      <td>580</td>\n",
              "      <td>6228</td>\n",
              "      <td>3200</td>\n",
              "      <td>396</td>\n",
              "      <td>19</td>\n",
              "      <td>325.0</td>\n",
              "      <td>49.0</td>\n",
              "      <td>393</td>\n",
              "    </tr>\n",
              "  </tbody>\n",
              "</table>\n",
              "</div>"
            ],
            "text/plain": [
              "   Page total likes    Type  Category  Post Month  Post Weekday  Post Hour  \\\n",
              "0            139441   Photo         2          12             4          3   \n",
              "1            139441  Status         2          12             3         10   \n",
              "2            139441   Photo         3          12             3          3   \n",
              "3            139441   Photo         2          12             2         10   \n",
              "4            139441   Photo         2          12             2          3   \n",
              "\n",
              "   Paid  Lifetime Post Total Reach  Lifetime Post Total Impressions  \\\n",
              "0   0.0                       2752                             5091   \n",
              "1   0.0                      10460                            19057   \n",
              "2   0.0                       2413                             4373   \n",
              "3   1.0                      50128                            87991   \n",
              "4   0.0                       7244                            13594   \n",
              "\n",
              "   Lifetime Engaged Users  Lifetime Post Consumers  \\\n",
              "0                     178                      109   \n",
              "1                    1457                     1361   \n",
              "2                     177                      113   \n",
              "3                    2211                      790   \n",
              "4                     671                      410   \n",
              "\n",
              "   Lifetime Post Consumptions  \\\n",
              "0                         159   \n",
              "1                        1674   \n",
              "2                         154   \n",
              "3                        1119   \n",
              "4                         580   \n",
              "\n",
              "   Lifetime Post Impressions by people who have liked your Page  \\\n",
              "0                                               3078              \n",
              "1                                              11710              \n",
              "2                                               2812              \n",
              "3                                              61027              \n",
              "4                                               6228              \n",
              "\n",
              "   Lifetime Post reach by people who like your Page  \\\n",
              "0                                              1640   \n",
              "1                                              6112   \n",
              "2                                              1503   \n",
              "3                                             32048   \n",
              "4                                              3200   \n",
              "\n",
              "   Lifetime People who have liked your Page and engaged with your post  \\\n",
              "0                                                119                     \n",
              "1                                               1108                     \n",
              "2                                                132                     \n",
              "3                                               1386                     \n",
              "4                                                396                     \n",
              "\n",
              "   comment    like  share  Total Interactions  \n",
              "0        4    79.0   17.0                 100  \n",
              "1        5   130.0   29.0                 164  \n",
              "2        0    66.0   14.0                  80  \n",
              "3       58  1572.0  147.0                1777  \n",
              "4       19   325.0   49.0                 393  "
            ]
          },
          "execution_count": 2,
          "metadata": {},
          "output_type": "execute_result"
        }
      ],
      "source": [
        "#Se crea el dataframe respectivo y se hace la lectura de los primeros 5 renglones para verificar que todo OK\n",
        "\n",
        "#input = 'pon tu liga'\n",
        "input = '/Users/alexishema/Downloads/Facebook_metrics/dataset_Facebook.csv'\n",
        "facebook = pd.read_csv(input,sep=';')\n",
        "facebook.head()"
      ]
    },
    {
      "cell_type": "code",
      "execution_count": null,
      "metadata": {
        "id": "C5i2vL_Ro2yM",
        "outputId": "71e63060-eb52-4358-c81f-34039710ee54"
      },
      "outputs": [
        {
          "data": {
            "text/html": [
              "<div>\n",
              "<style scoped>\n",
              "    .dataframe tbody tr th:only-of-type {\n",
              "        vertical-align: middle;\n",
              "    }\n",
              "\n",
              "    .dataframe tbody tr th {\n",
              "        vertical-align: top;\n",
              "    }\n",
              "\n",
              "    .dataframe thead th {\n",
              "        text-align: right;\n",
              "    }\n",
              "</style>\n",
              "<table border=\"1\" class=\"dataframe\">\n",
              "  <thead>\n",
              "    <tr style=\"text-align: right;\">\n",
              "      <th></th>\n",
              "      <th>Category</th>\n",
              "      <th>Page total likes</th>\n",
              "      <th>Type</th>\n",
              "      <th>Post Month</th>\n",
              "      <th>Post Hour</th>\n",
              "      <th>Post Weekday</th>\n",
              "      <th>Paid</th>\n",
              "    </tr>\n",
              "  </thead>\n",
              "  <tbody>\n",
              "    <tr>\n",
              "      <th>0</th>\n",
              "      <td>2</td>\n",
              "      <td>139441</td>\n",
              "      <td>Photo</td>\n",
              "      <td>12</td>\n",
              "      <td>3</td>\n",
              "      <td>4</td>\n",
              "      <td>0.0</td>\n",
              "    </tr>\n",
              "    <tr>\n",
              "      <th>1</th>\n",
              "      <td>2</td>\n",
              "      <td>139441</td>\n",
              "      <td>Status</td>\n",
              "      <td>12</td>\n",
              "      <td>10</td>\n",
              "      <td>3</td>\n",
              "      <td>0.0</td>\n",
              "    </tr>\n",
              "    <tr>\n",
              "      <th>2</th>\n",
              "      <td>3</td>\n",
              "      <td>139441</td>\n",
              "      <td>Photo</td>\n",
              "      <td>12</td>\n",
              "      <td>3</td>\n",
              "      <td>3</td>\n",
              "      <td>0.0</td>\n",
              "    </tr>\n",
              "    <tr>\n",
              "      <th>3</th>\n",
              "      <td>2</td>\n",
              "      <td>139441</td>\n",
              "      <td>Photo</td>\n",
              "      <td>12</td>\n",
              "      <td>10</td>\n",
              "      <td>2</td>\n",
              "      <td>1.0</td>\n",
              "    </tr>\n",
              "    <tr>\n",
              "      <th>4</th>\n",
              "      <td>2</td>\n",
              "      <td>139441</td>\n",
              "      <td>Photo</td>\n",
              "      <td>12</td>\n",
              "      <td>3</td>\n",
              "      <td>2</td>\n",
              "      <td>0.0</td>\n",
              "    </tr>\n",
              "    <tr>\n",
              "      <th>...</th>\n",
              "      <td>...</td>\n",
              "      <td>...</td>\n",
              "      <td>...</td>\n",
              "      <td>...</td>\n",
              "      <td>...</td>\n",
              "      <td>...</td>\n",
              "      <td>...</td>\n",
              "    </tr>\n",
              "    <tr>\n",
              "      <th>495</th>\n",
              "      <td>3</td>\n",
              "      <td>85093</td>\n",
              "      <td>Photo</td>\n",
              "      <td>1</td>\n",
              "      <td>2</td>\n",
              "      <td>7</td>\n",
              "      <td>0.0</td>\n",
              "    </tr>\n",
              "    <tr>\n",
              "      <th>496</th>\n",
              "      <td>2</td>\n",
              "      <td>81370</td>\n",
              "      <td>Photo</td>\n",
              "      <td>1</td>\n",
              "      <td>8</td>\n",
              "      <td>5</td>\n",
              "      <td>0.0</td>\n",
              "    </tr>\n",
              "    <tr>\n",
              "      <th>497</th>\n",
              "      <td>1</td>\n",
              "      <td>81370</td>\n",
              "      <td>Photo</td>\n",
              "      <td>1</td>\n",
              "      <td>2</td>\n",
              "      <td>5</td>\n",
              "      <td>0.0</td>\n",
              "    </tr>\n",
              "    <tr>\n",
              "      <th>498</th>\n",
              "      <td>3</td>\n",
              "      <td>81370</td>\n",
              "      <td>Photo</td>\n",
              "      <td>1</td>\n",
              "      <td>11</td>\n",
              "      <td>4</td>\n",
              "      <td>0.0</td>\n",
              "    </tr>\n",
              "    <tr>\n",
              "      <th>499</th>\n",
              "      <td>2</td>\n",
              "      <td>81370</td>\n",
              "      <td>Photo</td>\n",
              "      <td>1</td>\n",
              "      <td>4</td>\n",
              "      <td>4</td>\n",
              "      <td>NaN</td>\n",
              "    </tr>\n",
              "  </tbody>\n",
              "</table>\n",
              "<p>500 rows × 7 columns</p>\n",
              "</div>"
            ],
            "text/plain": [
              "     Category  Page total likes    Type  Post Month  Post Hour  Post Weekday  \\\n",
              "0           2            139441   Photo          12          3             4   \n",
              "1           2            139441  Status          12         10             3   \n",
              "2           3            139441   Photo          12          3             3   \n",
              "3           2            139441   Photo          12         10             2   \n",
              "4           2            139441   Photo          12          3             2   \n",
              "..        ...               ...     ...         ...        ...           ...   \n",
              "495         3             85093   Photo           1          2             7   \n",
              "496         2             81370   Photo           1          8             5   \n",
              "497         1             81370   Photo           1          2             5   \n",
              "498         3             81370   Photo           1         11             4   \n",
              "499         2             81370   Photo           1          4             4   \n",
              "\n",
              "     Paid  \n",
              "0     0.0  \n",
              "1     0.0  \n",
              "2     0.0  \n",
              "3     1.0  \n",
              "4     0.0  \n",
              "..    ...  \n",
              "495   0.0  \n",
              "496   0.0  \n",
              "497   0.0  \n",
              "498   0.0  \n",
              "499   NaN  \n",
              "\n",
              "[500 rows x 7 columns]"
            ]
          },
          "execution_count": 3,
          "metadata": {},
          "output_type": "execute_result"
        }
      ],
      "source": [
        "# Se hace un diccionario para el cambio de nombre de columna a LPE\n",
        "\n",
        "cambio = {'Lifetime People who have liked your Page and engaged with your post': 'LPE'}\n",
        "\n",
        "facebook.rename(columns=cambio,inplace=True)\n",
        "\n",
        "\n",
        "# Se definen X y Y como las variables de entrada y salida, respectivamente solicitadas de acuerdo a Tabla 3\n",
        "\n",
        "Y = facebook['LPE']\n",
        "variables_entrada = facebook[['Category','Page total likes', 'Type', 'Post Month',\n",
        "                              'Post Hour','Post Weekday','Paid']]\n",
        "\n",
        "X = variables_entrada.copy()\n",
        "X\n"
      ]
    },
    {
      "cell_type": "markdown",
      "metadata": {
        "id": "xZhr2hkECzVv"
      },
      "source": [
        "#**Ejercicio-2.**\n",
        "\n",
        "2. Realiza una partición de los datos con 100 datos de Prueba y el resto para entrenamiento y validación."
      ]
    },
    {
      "cell_type": "code",
      "execution_count": null,
      "metadata": {
        "id": "kGfAoOPkC1PP",
        "outputId": "c256da57-8758-4ac1-c90d-727a339aa149"
      },
      "outputs": [
        {
          "name": "stdout",
          "output_type": "stream",
          "text": [
            "Tamaño del conjunto de entrenamiento: (400, 7)\n",
            "Tamaño del conjunto de prueba (100, 7)\n",
            "Tamaño del conjunto de entrenamiento: (400,)\n",
            "Tamaño del conjunto de prueba (100,)\n"
          ]
        }
      ],
      "source": [
        "# Se realiza la partición\n",
        "\n",
        "X_tv, X_test, Y_tv, Y_test = train_test_split(X, Y, test_size=.20, shuffle=True, random_state=0)\n",
        "\n",
        "print('Tamaño del conjunto de entrenamiento:', X_tv.shape)\n",
        "print('Tamaño del conjunto de prueba', X_test.shape)\n",
        "\n",
        "print('Tamaño del conjunto de entrenamiento:', Y_tv.shape)\n",
        "print('Tamaño del conjunto de prueba', Y_test.shape)"
      ]
    },
    {
      "cell_type": "markdown",
      "metadata": {
        "id": "NCunuooTC2W3"
      },
      "source": [
        "#**Ejercicio-3.**\n",
        "\n",
        "3. Definirás tus propias funciones de errores para este problema de regresión. Los errores que utilizarás son la raíz cuadrada del error cuadrático medio RMSE, el error absoluto medio MAE y el error porcentual absoluto medio MAPE."
      ]
    },
    {
      "cell_type": "code",
      "execution_count": null,
      "metadata": {
        "id": "YXlcSWA-C4Dj"
      },
      "outputs": [],
      "source": [
        "def mi_RMSE(Yreal, Ypronosticado):\n",
        "    \n",
        "    return (np.mean(np.square(np.subtract(Yreal,Ypronosticado))))**(1/2)\n",
        "\n",
        "def mi_MAE(Yreal, Ypronosticado):\n",
        "\n",
        "    return (np.mean(np.abs(Yreal- Ypronosticado)))\n",
        "\n",
        "def mi_MAPE(Yreal, Ypronosticado):\n",
        "    \n",
        "    return (np.mean(np.abs(((Yreal-Ypronosticado)/Yreal))))*100"
      ]
    },
    {
      "cell_type": "markdown",
      "metadata": {
        "id": "chqk9jIDC5Pq"
      },
      "source": [
        "#**Ejercicio-4.**\n",
        "\n",
        "4. En la página de la UCI, así como en el artículo de los autores previamente citado encuentras información en relación al significado de cada variable. Haz una análisis de tus datos y lleva a cabo las transformaciones que consideres adecuadas tanto en los datos de entrada, como en las de salida. Utiliza un Pipeline para evitar el filtrado de información."
      ]
    },
    {
      "cell_type": "code",
      "execution_count": null,
      "metadata": {
        "id": "BKI80-YdC4HN",
        "outputId": "984b4c54-0fe9-4538-dab3-5d9a1d16cd8c"
      },
      "outputs": [
        {
          "name": "stdout",
          "output_type": "stream",
          "text": [
            "Datos de entrada\n",
            " Category            False\n",
            "Page total likes    False\n",
            "Type                False\n",
            "Post Month          False\n",
            "Post Hour           False\n",
            "Post Weekday        False\n",
            "Paid                 True\n",
            "dtype: bool\n",
            "\n",
            "Datos de salida\n",
            " False\n"
          ]
        }
      ],
      "source": [
        "# Se comprueba que hay datos faltantes en las columnas de Paid, no en el DT de facebook pero en X_tv y en Y\n",
        "\n",
        "print('Datos de entrada\\n',X.isna().any())\n",
        "print('\\nDatos de salida\\n',Y.isna().any())"
      ]
    },
    {
      "cell_type": "code",
      "execution_count": null,
      "metadata": {
        "id": "W5WHomt4o2yP"
      },
      "outputs": [],
      "source": [
        "# Se procede a crear el Pipe para reemplazar los valores faltantes \n",
        "\n",
        "# Transformaciones a factores numéricos de entrada:\n",
        "facebookX_pipeline = Pipeline(steps = [('impModa', SimpleImputer(strategy='most_frequent')), \n",
        "                                 ('escalaNum', MinMaxScaler(feature_range=(1,2)))])  \n",
        "facebookX_pipeline_nombres = ['Category', 'Page total likes','Post Month','Post Hour',\n",
        "                              'Post Weekday','Paid']\n",
        "\n",
        "# Transformaciones a factor tipo objeto de entrada:\n",
        "facebookXOHE_pipeline = Pipeline(steps = [('impModa', SimpleImputer(strategy='most_frequent')), \n",
        "                               ('onehot', OneHotEncoder(handle_unknown='ignore'))])  \n",
        "facebookXOHE_pipeline_nombres = ['Type']\n",
        "\n",
        "\n",
        "# Transformaciones a factor tipo objeto de entrada:\n",
        "facebookY_pipeline = Pipeline(steps = [('escalaNum', MinMaxScaler(feature_range=(1,2)))]) \n",
        "facebookY_pipeline_nombres = ['LPE']\n",
        "\n",
        "\n",
        "\n",
        "CT = ColumnTransformer(transformers = [('facebookX_pipe', facebookX_pipeline, facebookX_pipeline_nombres),\n",
        "                                      ('facebookXOHE_pipe', facebookXOHE_pipeline,facebookXOHE_pipeline_nombres),\n",
        "                                      ])\n",
        "\n",
        "CTY = ColumnTransformer(transformers = [('facebookY_pipe', facebookY_pipeline, facebookY_pipeline_nombres)\n",
        "                                      ])\n",
        "\n",
        "\n",
        "\n",
        "\n",
        "\n",
        "# Solo comprobamos que si se hagan las transformaciones, en ambos splits por separado para evitar\n",
        "# que se contaminen\n",
        "\n",
        "#X_tv_Fit= CT.fit(X_tv)\n",
        "#X_tv_Transf= X_tv_Fit.transform(X_tv)\n",
        "\n",
        "\n",
        "#X_test_Fit= CT.fit(X_test)\n",
        "#X_test_Transf= X_test_Fit.transform(X_test)\n"
      ]
    },
    {
      "cell_type": "code",
      "execution_count": null,
      "metadata": {
        "id": "RBVSFwK4C6g9",
        "outputId": "d1dbc2eb-2358-45a2-bee1-b8dcc86df6e0"
      },
      "outputs": [
        {
          "name": "stdout",
          "output_type": "stream",
          "text": [
            "<class 'pandas.core.frame.DataFrame'>\n",
            "RangeIndex: 500 entries, 0 to 499\n",
            "Data columns (total 7 columns):\n",
            " #   Column            Non-Null Count  Dtype  \n",
            "---  ------            --------------  -----  \n",
            " 0   Category          500 non-null    int64  \n",
            " 1   Page total likes  500 non-null    int64  \n",
            " 2   Type              500 non-null    object \n",
            " 3   Post Month        500 non-null    int64  \n",
            " 4   Post Hour         500 non-null    int64  \n",
            " 5   Post Weekday      500 non-null    int64  \n",
            " 6   Paid              499 non-null    float64\n",
            "dtypes: float64(1), int64(5), object(1)\n",
            "memory usage: 27.5+ KB\n",
            "None\n",
            "<class 'pandas.core.series.Series'>\n",
            "RangeIndex: 500 entries, 0 to 499\n",
            "Series name: LPE\n",
            "Non-Null Count  Dtype\n",
            "--------------  -----\n",
            "500 non-null    int64\n",
            "dtypes: int64(1)\n",
            "memory usage: 4.0 KB\n",
            "None\n"
          ]
        }
      ],
      "source": [
        "# En este punto se verifica si hay valores nulos, y el tipo de variable que cada columna tiene\n",
        "\n",
        "print(X.info())\n",
        "print(Y.info())"
      ]
    },
    {
      "cell_type": "code",
      "execution_count": null,
      "metadata": {
        "id": "715w45CVo2yQ",
        "outputId": "5e2e5ee8-5ea1-4de1-dbb4-f9e926fab223"
      },
      "outputs": [
        {
          "name": "stdout",
          "output_type": "stream",
          "text": [
            "En esta sección se analiza los valores que cada columna trae para ver si son coherentes\n",
            "\n",
            "Para la variable Category hay\n",
            " 1    215\n",
            "3    155\n",
            "2    130\n",
            "Name: Category, dtype: int64 \n",
            "\n",
            "Para la variable Page total likes hay\n",
            " 136393    18\n",
            "124940    17\n",
            "129600    15\n",
            "139441    14\n",
            "138895    14\n",
            "          ..\n",
            "93470      1\n",
            "127082     1\n",
            "93684      1\n",
            "133451     1\n",
            "93577      1\n",
            "Name: Page total likes, Length: 90, dtype: int64 \n",
            "\n",
            "Para la variable Type hay\n",
            " Photo     426\n",
            "Status     45\n",
            "Link       22\n",
            "Video       7\n",
            "Name: Type, dtype: int64 \n",
            "\n",
            "Para la variable Post Month hay\n",
            " 10    60\n",
            "7     52\n",
            "12    50\n",
            "4     50\n",
            "6     49\n",
            "11    45\n",
            "5     37\n",
            "9     36\n",
            "3     36\n",
            "8     34\n",
            "2     26\n",
            "1     25\n",
            "Name: Post Month, dtype: int64 \n",
            "\n",
            "Para la variable Post Hour hay\n",
            " 3     105\n",
            "10     78\n",
            "13     52\n",
            "11     44\n",
            "2      39\n",
            "4      35\n",
            "9      30\n",
            "12     29\n",
            "6      16\n",
            "7      13\n",
            "5      13\n",
            "14     13\n",
            "8      12\n",
            "15      6\n",
            "1       4\n",
            "18      3\n",
            "17      3\n",
            "23      1\n",
            "22      1\n",
            "20      1\n",
            "19      1\n",
            "16      1\n",
            "Name: Post Hour, dtype: int64 \n",
            "\n",
            "Para la variable Post Weekday hay\n",
            " 7    82\n",
            "6    81\n",
            "4    72\n",
            "1    68\n",
            "5    67\n",
            "2    66\n",
            "3    64\n",
            "Name: Post Weekday, dtype: int64 \n",
            "\n",
            "Para la variable Paid hay\n",
            " 0.0    360\n",
            "1.0    139\n",
            "Name: Paid, dtype: int64 \n",
            "\n",
            "Para la variable LPE hay\n",
            " 403     5\n",
            "363     4\n",
            "327     4\n",
            "340     4\n",
            "348     3\n",
            "       ..\n",
            "2342    1\n",
            "4318    1\n",
            "267     1\n",
            "416     1\n",
            "370     1\n",
            "Name: LPE, Length: 382, dtype: int64 \n",
            "\n",
            "Aquí termina el análisis por variable\n"
          ]
        }
      ],
      "source": [
        "# Análisis de valores por cada una de las variables de entrada\n",
        "\n",
        "print('En esta sección se analiza los valores que cada columna trae para ver si son coherentes\\n')\n",
        "for x in range(0,7):\n",
        "    c=X.columns[x]\n",
        "    A=str(c)\n",
        "    print(\"Para la variable\", c,\"hay\\n\",X[A].value_counts(),\"\\n\")\n",
        "    \n",
        "print(\"Para la variable\", Y.name,\"hay\\n\",Y.value_counts(),\"\\n\")\n",
        "print(\"Aquí termina el análisis por variable\")"
      ]
    },
    {
      "cell_type": "code",
      "execution_count": null,
      "metadata": {
        "id": "7KXnlNzAC69Y",
        "outputId": "7f46c510-4b66-4c47-d4dc-51f961ac8ad5"
      },
      "outputs": [
        {
          "data": {
            "text/plain": [
              "count     500.000000\n",
              "mean      609.986000\n",
              "std       612.725618\n",
              "min         9.000000\n",
              "25%       291.000000\n",
              "50%       412.000000\n",
              "75%       656.250000\n",
              "max      4376.000000\n",
              "Name: LPE, dtype: float64"
            ]
          },
          "execution_count": 10,
          "metadata": {},
          "output_type": "execute_result"
        }
      ],
      "source": [
        "Y.describe()"
      ]
    },
    {
      "cell_type": "code",
      "execution_count": null,
      "metadata": {
        "id": "9rBiicUgo2yR",
        "outputId": "0db348b6-caf6-4413-819e-1d88123434f6"
      },
      "outputs": [
        {
          "data": {
            "image/png": "[encoded data removed]",
            "text/plain": [
              "<Figure size 432x288 with 5 Axes>"
            ]
          },
          "metadata": {
            "needs_background": "light"
          },
          "output_type": "display_data"
        }
      ],
      "source": [
        "numerica = ['LPE']\n",
        "sns.set(rc={'figure.figsize':(17,7)})\n",
        "#Numerica\n",
        "k=0\n",
        "fig, axes = plt.subplots(5, 1)   \n",
        "for k in range(0,1):  \n",
        "  plt.subplot(5,1,k+1) \n",
        "#.iloc[:,k]\n",
        "  Transf0 = Y_tv.to_numpy().reshape(-1, 1)  \n",
        "  plt.hist(Transf0, bins=20) \n",
        "  plt.xlabel(numerica[k])\n",
        "  if k==0:\n",
        "    plt.ylabel('numerica')\n",
        "  \n",
        "  plt.subplot(5,1,k+2)    \n",
        "  Transf1 = np.sqrt(Transf0)       \n",
        "  plt.hist(Transf1, bins=20)                      \n",
        "  if k==0:\n",
        "    plt.ylabel('Raíz Cuadrada')\n",
        "\n",
        "  plt.subplot(5,1,k+3)    \n",
        "  Transf2 = np.log(Transf0)       \n",
        "  plt.hist(Transf2, bins=20)                      \n",
        "  plt.xlabel(numerica[k])\n",
        "  if k==0:\n",
        "    plt.ylabel('Logaritmo')\n",
        "\n",
        "  plt.subplot(5,1,k+4)    \n",
        "  Transf3 = np.exp(Transf2)\n",
        "  plt.hist(Transf3, bins=20)      \n",
        "  plt.xlabel(numerica[k])\n",
        "  if k==0:\n",
        "    plt.ylabel('Potencia')\n",
        "  \n",
        "  plt.subplot(5,1,k+5)\n",
        "  Transf4 = power_transform(Y_tv.to_numpy().reshape(-1, 1), method='box-cox')        \n",
        "  plt.hist(Transf4, bins=20)                  \n",
        "  plt.xlabel(numerica[k])\n",
        "  if k==0:\n",
        "   plt.ylabel('Box-Cox')"
      ]
    },
    {
      "cell_type": "markdown",
      "metadata": {
        "id": "CMHM-AFqo2yR"
      },
      "source": [
        "**Derivado del análisis de gráficas, se concluye que la transformación con logaritmo es la que mejor le quita el sesgo a los datos de Y de entrenamiento, por lo que a continuación se definen las correspondientes funciones de transformación de datos, y la que se necesita para regresar a los datos de Y originales.**"
      ]
    },
    {
      "cell_type": "code",
      "execution_count": null,
      "metadata": {
        "id": "2bkFL6xzo2yR"
      },
      "outputs": [],
      "source": [
        "\n",
        "def y_Transform(Y):\n",
        "  y_transform = Y.copy() \n",
        "  y_transform = np.log(y_transform)\n",
        "  return y_transform\n",
        "\n",
        "def y_antiTransform(Y):\n",
        "  y_antitransform = Y.copy() \n",
        "  y_antitransform = np.exp(y_antitransform)\n",
        "  return y_antitransform"
      ]
    },
    {
      "cell_type": "markdown",
      "metadata": {
        "id": "Rv7KFq-mC7PS"
      },
      "source": [
        "#**Ejercicio-5.**\n",
        "\n",
        "5. Utiliza la función Dummy para modelos de regresión de scikit-learn con el conjunto que tienes de datos de entrenamiento y validación. Para ello particiónalos en 100 para validación y 300 para entrenamiento. Encuentra los errores RMSE, MAE y MAPE para los conjuntos de entrenamiento y validación. Estos serán tus errores máximos que deberás tomar como referencia en el resto de la actividad. "
      ]
    },
    {
      "cell_type": "code",
      "execution_count": null,
      "metadata": {
        "id": "jaDj3kawC9B6",
        "scrolled": true,
        "outputId": "d4b174e7-19e9-4359-cc44-1f41f3b411cd"
      },
      "outputs": [
        {
          "name": "stdout",
          "output_type": "stream",
          "text": [
            "Errores máximos como referencia para validación\n",
            "\n",
            "El error RMSE es: 716.0021997172914\n",
            "El error MAE es: 375.07\n",
            "El error MAPE es: 121.40708156004855 \n",
            "\n",
            "Errores máximos como referencia para entrenamiento\n",
            "\n",
            "El error RMSE es: 598.3394939330012\n",
            "El error MAE es: 330.5233333333333\n",
            "El error MAPE es: 73.70538459809016\n"
          ]
        }
      ],
      "source": [
        "# Usar X_tv y Y_tv pues así lo pide el ejercicio\n",
        "\n",
        "Xtrain5, Xval5, Ytrain5, Yval5 = train_test_split(X_tv, Y_tv, train_size=0.75, random_state=0)\n",
        "\n",
        "\n",
        "modeloD = DummyRegressor(strategy='median')    \n",
        "                                                       \n",
        "\n",
        "pipeline = Pipeline(steps=[('CT',CT),('model',modeloD)])\n",
        "\n",
        "modeloDummy = TransformedTargetRegressor(regressor=pipeline, \n",
        "                                    func= y_Transform,     \n",
        "                                    inverse_func=y_antiTransform    \n",
        "                                    )            \n",
        "    \n",
        "modeloDummy.fit(Xtrain5, Ytrain5)       # entrenamos con los conjuntos de entrenamiento\n",
        "\n",
        "Yhat = modeloDummy.predict(Xval5) \n",
        "Yhat2 = modeloDummy.predict(Xtrain5) \n",
        "\n",
        "print(\"Errores máximos como referencia para validación\\n\")\n",
        "print(\"El error RMSE es:\",mi_RMSE(Yval5, Yhat))\n",
        "print(\"El error MAE es:\",mi_MAE(Yval5, Yhat))\n",
        "print(\"El error MAPE es:\",mi_MAPE(Yval5, Yhat),'\\n')\n",
        "\n",
        "print(\"Errores máximos como referencia para entrenamiento\\n\")\n",
        "print(\"El error RMSE es:\",mi_RMSE(Ytrain5, Yhat2))\n",
        "print(\"El error MAE es:\",mi_MAE(Ytrain5, Yhat2))\n",
        "print(\"El error MAPE es:\",mi_MAPE(Ytrain5, Yhat2))\n",
        "    "
      ]
    },
    {
      "cell_type": "markdown",
      "metadata": {
        "id": "W2S7LI0NC9wE"
      },
      "source": [
        "#**Ejercicio-6.**\n",
        "\n",
        "6. Usando los modelos de regresión lineal múltiple, el bosque aleatorio y el perceptrón multicapa con sus valores predeterminados, lleva a cabo su entrenamiento con repeticiones de validación cruzada (RepeatedKFold) y desplegando los errores RMSE, MAE y MAPE. Recuerda evitar el filtrado de información usando los datos que obtuviste en el ejercicio 2. Incluye las conclusiones sobre el mejor modelo encontrado en esta primera aproximación. En particular ¿hay alguno sobreentrenado o subentrenado? NOTA: Recuerda que puedes aumentar en dado caso el número máximo de iteraciones para que todos los modelos converjan.\n"
      ]
    },
    {
      "cell_type": "code",
      "execution_count": null,
      "metadata": {
        "id": "x6uBleJUC_AU"
      },
      "outputs": [],
      "source": [
        "#Definimos los tres modelos que vamos a utilizar\n",
        "\n",
        "def get_models():\n",
        "  modelos = list()\n",
        "  nombres = list()\n",
        "\n",
        "  # LR - Regresión Logística:\n",
        "  modelos.append(LinearRegression())\n",
        "  nombres.append('LR')\n",
        "\n",
        "  # RFC - andom Forest / Bosque Aleatorio:\n",
        "  modelos.append(RandomForestRegressor())\n",
        "  nombres.append('RFC')\n",
        "  \n",
        "  # MLP - MLPRegressor / Perceptrón Multicapa:  \n",
        "  modelos.append(MLPRegressor(max_iter=10000))\n",
        "  nombres.append('MLP')\n",
        "\n",
        "  return modelos, nombres"
      ]
    },
    {
      "cell_type": "code",
      "execution_count": null,
      "metadata": {
        "id": "n0P_AcyjC_Dh",
        "scrolled": false,
        "outputId": "d3e99888-c905-4ea5-a46f-fae751720f10"
      },
      "outputs": [
        {
          "name": "stdout",
          "output_type": "stream",
          "text": [
            "Para los datos de test\n",
            "LR:\n",
            "mean RMSE: 499.342 (158.6351)\n",
            "mean MAE: 277.422 (70.6726)\n",
            "mean MAPE: 77.398 (54.8534)\n",
            "\n",
            "Para los datos de train\n",
            "LR:\n",
            "mean RMSE: 508.673 (16.5388)\n",
            "mean MAE: 269.253 (7.5185)\n",
            "mean MAPE: 72.591 (4.9623)\n",
            "\n",
            "Para los datos de test\n",
            "RFC:\n",
            "mean RMSE: 510.792 (151.0312)\n",
            "mean MAE: 296.314 (64.0226)\n",
            "mean MAPE: 81.003 (53.8423)\n",
            "\n",
            "Para los datos de train\n",
            "RFC:\n",
            "mean RMSE: 271.092 (12.3551)\n",
            "mean MAE: 126.808 (4.8764)\n",
            "mean MAPE: 19.998 (0.7140)\n",
            "\n",
            "Para los datos de test\n",
            "MLP:\n",
            "mean RMSE: 545.640 (183.8004)\n",
            "mean MAE: 337.825 (115.5865)\n",
            "mean MAPE: 94.643 (59.8669)\n",
            "\n",
            "Para los datos de train\n",
            "MLP:\n",
            "mean RMSE: 546.104 (72.7628)\n",
            "mean MAE: 319.872 (78.8822)\n",
            "mean MAPE: 85.083 (21.6679)\n",
            "\n"
          ]
        }
      ],
      "source": [
        "# X_tv, X_test, Y_tv, Y_test\n",
        "\n",
        "modelos, nombres = get_models() \n",
        "\n",
        "scores_3d=list()\n",
        "\n",
        "for i in range(len(modelos)):\n",
        "  \n",
        "  pipeline = Pipeline(steps=[('CT',CT),('m',modelos[i])])\n",
        "    \n",
        "  modelo = TransformedTargetRegressor(regressor=pipeline, \n",
        "                                    func= y_Transform,     \n",
        "                                    inverse_func=y_antiTransform   \n",
        "                                    )\n",
        "\n",
        "\n",
        "  cv = RepeatedKFold(n_splits=10, n_repeats=3, random_state=7)\n",
        "  mismetricas_ = {'RMSE':make_scorer(mi_RMSE), 'MAE':make_scorer(mi_MAE), \n",
        "                  'MAPE':make_scorer(mi_MAPE)}    \n",
        "\n",
        "\n",
        "    \n",
        "  resultadosOU = cross_validate(modelo, \n",
        "                          X_tv, np.ravel(Y_tv),\n",
        "                          scoring=mismetricas_,\n",
        "                          cv=cv,\n",
        "                          return_train_score=True)\n",
        "    \n",
        "  scores_3d.append(resultadosOU) \n",
        "\n",
        "\n",
        "  print(\"Para los datos de test\")\n",
        "  print('%s:\\nmean RMSE: %.3f (%.4f)\\nmean MAE: %.3f (%.4f)\\nmean MAPE: %.3f (%.4f)\\n' % (nombres[i],\n",
        "                                            np.mean(resultadosOU['test_RMSE']),\n",
        "                                            np.std(resultadosOU['test_RMSE']), \n",
        "                                            np.mean(resultadosOU['test_MAE']),\n",
        "                                            np.std(resultadosOU['test_MAE']), \n",
        "                                            np.mean(resultadosOU['test_MAPE']),\n",
        "                                            np.std(resultadosOU['test_MAPE']), \n",
        "                                            ))\n",
        "\n",
        "  print(\"Para los datos de train\")\n",
        "  print('%s:\\nmean RMSE: %.3f (%.4f)\\nmean MAE: %.3f (%.4f)\\nmean MAPE: %.3f (%.4f)\\n' % (nombres[i],\n",
        "                                            np.mean(resultadosOU['train_RMSE']),\n",
        "                                            np.std(resultadosOU['train_RMSE']), \n",
        "                                            np.mean(resultadosOU['train_MAE']),\n",
        "                                            np.std(resultadosOU['train_MAE']), \n",
        "                                            np.mean(resultadosOU['train_MAPE']),\n",
        "                                            np.std(resultadosOU['train_MAPE']), \n",
        "                                            ))"
      ]
    },
    {
      "cell_type": "markdown",
      "metadata": {
        "id": "9YrU-Qrro2yT"
      },
      "source": [
        "**Conclusiones de Ejercicio 6: En este ejercicio, podemos concluir que el mejor modelo es el de Random Forest, al hacer un análisis conjunto entre el mean MAPE de los datos de validación y los de entrenamiento. De los resultados que se ven arriba, claramente se puede notar que en RF, el MAPE se fue hasta un valor de 19.99, muy diferente de todos los demás modelos para los datos de train.** \n",
        "\n",
        "**Para los datos de test, el MAPE fue muy similar entre 2 modelos, pues es LR 77, RFC 81 y MLP 94. De estos números, se concluye que el mejor es Random Forest pues la varianza , para los datos de train, también fue la menor posible. En general, consideramos a los 3 subentrenados por el grado tan alto de error MAPE que alcanzan cada uno.**"
      ]
    },
    {
      "cell_type": "markdown",
      "metadata": {
        "id": "iCNGx4TQ8CFI"
      },
      "source": [
        "#**Ejercicio-7.**\n",
        "\n",
        "7. Obtener los diagramas de caja y bigote para los errores MAPE de los conjuntos de validación obtenidos. En particular compara estos primeros resultados de MAPE con el mejor resultado que encuentran los autores del artículo citado al inicio. Incluye tus conclusiones."
      ]
    },
    {
      "cell_type": "code",
      "execution_count": null,
      "metadata": {
        "id": "ewvwUcJX78y1",
        "outputId": "4cfe4d11-8c2e-45bd-db37-4f20954e9cbc"
      },
      "outputs": [
        {
          "data": {
            "image/png": "[encoded data removed]",
            "text/plain": [
              "<Figure size 1224x504 with 1 Axes>"
            ]
          },
          "metadata": {},
          "output_type": "display_data"
        }
      ],
      "source": [
        "#Diagrama de cajas y bigotes para los 3 modelos con la metrica Recall\n",
        "\n",
        "sns.set(rc={'figure.figsize':(17,7)})\n",
        "bpGmean = list()\n",
        "for i in range(len(scores_3d)):\n",
        "  rr = scores_3d[i]['test_MAPE']\n",
        "  bpGmean.append(rr)\n",
        "\n",
        "plt.boxplot(bpGmean, labels=nombres, showmeans=True)\n",
        "plt.show()"
      ]
    },
    {
      "cell_type": "markdown",
      "metadata": {
        "id": "F1aW0dQX8BLL"
      },
      "source": [
        "**Mejor resultado MAPE para LPE, de acuerdo a los investigadores**\n",
        "\n",
        "![Captura%20de%20pantalla%202022-10-27%20a%20la%28s%29%209.01.01.png](attachment:Captura%20de%20pantalla%202022-10-27%20a%20la%28s%29%209.01.01.png)\n",
        "\n",
        "**En este punto, podemos ver que el MAPE de los investigadores está por 26.9, mientras que el nuestro , para los tres modelos, oscila el promedio entre 77 y 94. Esta diferencia tan grande tiene sentido, ya que en este punto estamos utilizando los modelos de regresión con los parámetros estándar que ofrecen las librerías.**\n",
        "\n",
        "**Comparando, también es importante decir que los autores mencionan al final que hicieron data mining con base en vectores ya que les daba un mejor resultado, y en esta tarea no trataremos con tales vectores para mejorar el MAPE.**"
      ]
    },
    {
      "cell_type": "markdown",
      "metadata": {
        "id": "tzQn5NR78GFg"
      },
      "source": [
        "#**Ejercicio-8.**\n",
        "\n",
        "8. Usando una búsqueda de malla con validación cruzada (GridSearchCV), busca los mejores hiperparámetros para el modelo MLP. Al menos deberás realizar la búsqueda en los hiperparámetros “hidden_layer_sizes”, “alpha” y “learning_rate_init”. Además aplica la validación cruzada con repeticiones (RepeatedKFold). Muestra los mejores hiperparámetros encontrados."
      ]
    },
    {
      "cell_type": "code",
      "execution_count": null,
      "metadata": {
        "id": "bVz2fFOKo2yV"
      },
      "outputs": [],
      "source": [
        "# Mismos modelos de arriba, pero cambiamos las iteraciones máximas\n",
        "\n",
        "def get_models2():\n",
        "  modelos2 = list()\n",
        "  nombres2 = list()\n",
        "\n",
        "  # LR - Regresión Logística:\n",
        "  modelos2.append(LogisticRegression(max_iter=30000))\n",
        "  nombres2.append('LR')\n",
        "\n",
        "  # RFC - andom Forest / Bosque Aleatorio:\n",
        "  modelos2.append(RandomForestRegressor())\n",
        "  nombres2.append('RFC')\n",
        "  \n",
        "  # MLP - MLPRegressor / Perceptrón Multicapa:  \n",
        "  modelos2.append(MLPRegressor(max_iter=900000))\n",
        "  nombres2.append('MLP')\n",
        "\n",
        "  return modelos2, nombres2"
      ]
    },
    {
      "cell_type": "code",
      "execution_count": null,
      "metadata": {
        "id": "EBKcp0278IQV"
      },
      "outputs": [],
      "source": [
        "#Función do_grid_search para realizar la busqueda de los mejores hiperparametros para cada uno de los modelos\n",
        "\n",
        "def do_grid_search(modela, X, y, cv, dicc_grid, scoring = 'accuracy'):\n",
        "    \n",
        "    if(modela==modelos2[0]):\n",
        "        modeloX = TransformedTargetRegressor(regressor=None, \n",
        "                                        func= y_Transform,     # transformación para ajuste del sesgo.\n",
        "                                        inverse_func=y_antiTransform    # Para regresar los valores \"y\" en la escala original.\n",
        "                                        )    \n",
        "\n",
        "\n",
        "\n",
        "        #Creamos el grid\n",
        "        grid = GridSearchCV(\n",
        "            estimator= modeloX, cv=cv,\n",
        "            param_grid=dicc_grid, scoring=scoring, n_jobs=-1)\n",
        "\n",
        "\n",
        "        grid.fit(X, y.values.ravel())        \n",
        "    else:    \n",
        "        grid_pipe = Pipeline(steps = [\n",
        "            ('CT', CT),\n",
        "            ('modela', modela)\n",
        "            ])\n",
        "\n",
        "        modeloX = TransformedTargetRegressor(regressor=grid_pipe, \n",
        "                                        func= y_Transform,     # transformación para ajuste del sesgo.\n",
        "                                        inverse_func=y_antiTransform    # Para regresar los valores \"y\" en la escala original.\n",
        "                                        )    \n",
        "\n",
        "\n",
        "\n",
        "        #Creamos el grid\n",
        "        grid = GridSearchCV(\n",
        "            estimator= modeloX, cv=cv,\n",
        "            param_grid=dicc_grid, scoring=scoring, n_jobs=-1)\n",
        "\n",
        "\n",
        "        grid.fit(X, y.values.ravel())\n",
        "\n",
        "    #Imprimimos resultados\n",
        "    print('Mejor valor de exactitud obtenido con la mejor combinación:', grid.best_score_)\n",
        "    print('Mejor combinación de valores encontrados de los hiperparámetros:', grid.best_params_)\n",
        "    print('Métrica utilizada:', grid.scoring)\n",
        "\n",
        "    return grid"
      ]
    },
    {
      "cell_type": "code",
      "execution_count": null,
      "metadata": {
        "id": "vp8S0PFs8IMR",
        "outputId": "ea6b18a2-2323-4f4a-df76-f69359e7270d"
      },
      "outputs": [
        {
          "name": "stdout",
          "output_type": "stream",
          "text": [
            "Mejor valor de exactitud obtenido con la mejor combinación: 108.45614332137276\n",
            "Mejor combinación de valores encontrados de los hiperparámetros: {'regressor__modela__alpha': 1e-05, 'regressor__modela__hidden_layer_sizes': (1, 1), 'regressor__modela__learning_rate_init': 1e-05}\n",
            "Métrica utilizada: make_scorer(mi_MAPE)\n"
          ]
        }
      ],
      "source": [
        "modelos2, nombres2 = get_models2() \n",
        "\n",
        "#Diccionario con diferente valores de hiperparametros para el modelo RL\n",
        "dicc_grid = {\"regressor__modela__hidden_layer_sizes\":[(1,1),(2,2)] ,\"regressor__modela__alpha\": [0.001, 0.0001, 0.00001], \n",
        "             \"regressor__modela__learning_rate_init\":[0.001, 0.0001, 0.00001]}\n",
        "\n",
        "Kfold = RepeatedKFold(n_splits=3, n_repeats=3,random_state=0)\n",
        "\n",
        "grid_MLP = do_grid_search(modelos2[2], X_tv, Y_tv, Kfold, dicc_grid, make_scorer(mi_MAPE))"
      ]
    },
    {
      "cell_type": "markdown",
      "metadata": {
        "id": "mASNrZWs8JTh"
      },
      "source": [
        "#**Ejercicio-9.**\n",
        "\n",
        "9. Con los mejores valores de los hiperparámetros encontrados realiza un análisis de la importancia de los factores. Muestra un diagrama de barras de los resultados e incluye tus conclusiones."
      ]
    },
    {
      "cell_type": "code",
      "execution_count": null,
      "metadata": {
        "id": "X6HJP9hb8LCp"
      },
      "outputs": [],
      "source": [
        "modelo_MLP = MLPRegressor(hidden_layer_sizes = grid_MLP.best_params_.get('regressor__modela__hidden_layer_sizes'), \n",
        "                            max_iter = 300000,\n",
        "                            alpha = grid_MLP.best_params_.get('regressor__modela__alpha'),\n",
        "                            learning_rate_init = grid_MLP.best_params_.get('regressor__modela__learning_rate_init'))\n",
        "\n",
        "pipeline = Pipeline(steps=[('ct1',CT),('modelo',modelo_MLP)])\n",
        "modelo_MLP_C = TransformedTargetRegressor(regressor=pipeline, \n",
        "                                    func= y_Transform,     # transformación para ajuste del sesgo.\n",
        "                                    inverse_func=y_antiTransform    # Para regresar los valores \"y\" en la escala original.\n",
        "                                    ) \n",
        "\n",
        "\n",
        "modelo_MLP_C.fit(X_tv,np.ravel(Y_tv))\n",
        "\n",
        "importance = permutation_importance(modelo_MLP_C, X_tv, Y_tv, n_repeats=10)"
      ]
    },
    {
      "cell_type": "code",
      "execution_count": null,
      "metadata": {
        "id": "Xr6oe1VF8K_A",
        "outputId": "e761317c-6a0c-4d24-db1d-971c3492d5b4"
      },
      "outputs": [
        {
          "name": "stdout",
          "output_type": "stream",
          "text": [
            "Feature: 0, Score: 0.00000\n",
            "Feature: 1, Score: 0.00000\n",
            "Feature: 2, Score: 0.00000\n",
            "Feature: 3, Score: 0.00005\n",
            "Feature: 4, Score: 0.00001\n",
            "Feature: 5, Score: 0.00001\n",
            "Feature: 6, Score: 0.00000\n"
          ]
        },
        {
          "data": {
            "image/png": "[encoded data removed]",
            "text/plain": [
              "<Figure size 1224x504 with 1 Axes>"
            ]
          },
          "metadata": {},
          "output_type": "display_data"
        }
      ],
      "source": [
        "# Una vez inicializado y entrenada la MLP, veamos qué factores considera más importantes:\n",
        "# visualicemos la importancia de cada métrica, de las cuales sabemos\n",
        "# cuáles son las más importantes, de acuerdo a como se definieron al inicio:\n",
        "\n",
        "for i,v in enumerate(importance['importances_mean']):\n",
        "\tprint('Feature: %0d, Score: %.5f' % (i,v))\n",
        "\n",
        "plt.bar([x for x in range(len(importance['importances_mean']))], importance['importances_mean'])\n",
        "plt.show()"
      ]
    },
    {
      "cell_type": "markdown",
      "metadata": {
        "id": "22ugYnmKo2yW"
      },
      "source": [
        "**Conclusiones Ejercicio 9: Las variables que están en la gráfica son:**\n",
        "\n",
        "0 Category\t\n",
        "1 Page total likes\t\n",
        "2 Type\t\n",
        "3 Post Month\t\n",
        "4 Post Hour\t\n",
        "5 Post Weekday\t\n",
        "6 Paid\n",
        "\n",
        "**En las gráficas, vemos que el análisis muestra una clara tendencia a que la columna 3 Post Month, es la que más influencia tiene al momento de intentar predecir los datos, casi 5x con las otras relevantes que en este caso son 4 Post Hour y 5 Post Weekday, por lo que se concluye que el tiempo y momento de la publicación juega un factor muy importante, para el modelo de Regresión Lineal**"
      ]
    },
    {
      "cell_type": "markdown",
      "metadata": {
        "id": "VUIcDshs8MzG"
      },
      "source": [
        "#**Ejercicio-10.**\n",
        "\n",
        "10. Repite el ejercicio 8 y 9 para el modelo de bosque aleatorio para buscar sus mejores hiperparámetros (realiza la búsqueda con aquellos hiperparámetros que consideres más adecuados) y usando el conjunto de Prueba. Y realiza igualmente el análisis de importancia de factores con este modelo con un diagrama de barras."
      ]
    },
    {
      "cell_type": "code",
      "execution_count": null,
      "metadata": {
        "id": "0lKNJNIt8N88",
        "scrolled": true,
        "outputId": "cd1b84a0-ac58-4770-a032-eaf2566ab11b"
      },
      "outputs": [
        {
          "name": "stdout",
          "output_type": "stream",
          "text": [
            "Mejor valor de exactitud obtenido con la mejor combinación: 196.36603626101\n",
            "Mejor combinación de valores encontrados de los hiperparámetros: {'regressor__modela__criterion': 'absolute_error', 'regressor__modela__max_depth': 5, 'regressor__modela__min_samples_split': 5, 'regressor__modela__n_estimators': 1}\n",
            "Métrica utilizada: make_scorer(mi_MAPE)\n"
          ]
        }
      ],
      "source": [
        "dicc_grid = {'regressor__modela__n_estimators':[1,2,3],\n",
        "             'regressor__modela__criterion':['absolute_error','squared_error'],\n",
        "             'regressor__modela__max_depth':[1,5,10,20],\n",
        "             'regressor__modela__min_samples_split':[2,5,10]}\n",
        "\n",
        "Kfold = RepeatedKFold(n_splits=5, n_repeats=3,random_state=0)\n",
        "\n",
        "RF_grid = do_grid_search(modelos2[1], X_test, Y_test, Kfold, dicc_grid, make_scorer(mi_MAPE))"
      ]
    },
    {
      "cell_type": "code",
      "execution_count": null,
      "metadata": {
        "id": "Inkq5YQe8PED"
      },
      "outputs": [],
      "source": [
        "modelo_RF = RandomForestRegressor(criterion=RF_grid.best_params_.get('regressor__modela__criterion'),\n",
        "                            max_depth=RF_grid.best_params_.get('regressor__modela__max_depth'),\n",
        "                            min_samples_split=RF_grid.best_params_.get('regressor__modela__min_samples_split'),\n",
        "                            n_estimators=RF_grid.best_params_.get('regressor__modela__n_estimators'))\n",
        "\n",
        "pipeline = Pipeline(steps=[('ct1',CT),('modelo',modelo_RF)])\n",
        "modelo_RF_C = TransformedTargetRegressor(regressor=pipeline, \n",
        "                                    func= y_Transform,     # transformación para ajuste del sesgo.\n",
        "                                    inverse_func=y_antiTransform    # Para regresar los valores \"y\" en la escala original.\n",
        "                                    ) \n",
        "\n",
        "\n",
        "modelo_RF_C.fit(X_test,np.ravel(Y_test))\n",
        "\n",
        "importance = permutation_importance(modelo_RF_C, X_test, Y_test, n_repeats=10)\n",
        "                       "
      ]
    },
    {
      "cell_type": "code",
      "execution_count": null,
      "metadata": {
        "id": "5zCuCHVmo2yX",
        "outputId": "fe37b95a-3af5-4c11-bd52-f5a5c81b6d13"
      },
      "outputs": [
        {
          "name": "stdout",
          "output_type": "stream",
          "text": [
            "Feature: 0, Score: 0.00000\n",
            "Feature: 1, Score: 0.37668\n",
            "Feature: 2, Score: 1.20087\n",
            "Feature: 3, Score: 0.00544\n",
            "Feature: 4, Score: 0.00000\n",
            "Feature: 5, Score: 0.21406\n",
            "Feature: 6, Score: 0.00000\n"
          ]
        },
        {
          "data": {
            "image/png": "[encoded data removed]",
            "text/plain": [
              "<Figure size 1224x504 with 1 Axes>"
            ]
          },
          "metadata": {},
          "output_type": "display_data"
        }
      ],
      "source": [
        "for i,v in enumerate(importance['importances_mean']):\n",
        "\tprint('Feature: %0d, Score: %.5f' % (i,v))\n",
        "\n",
        "plt.bar([x for x in range(len(importance['importances_mean']))], importance['importances_mean'])\n",
        "plt.show()"
      ]
    },
    {
      "cell_type": "markdown",
      "metadata": {
        "id": "EEVMxRT3o2yY"
      },
      "source": [
        "**Conclusiones Ejercicio 10: Las variables que están en la gráfica son:**\n",
        "\n",
        "0 Category\t\n",
        "1 Page total likes\t\n",
        "2 Type\t\n",
        "3 Post Month\t\n",
        "4 Post Hour\t\n",
        "5 Post Weekday\t\n",
        "6 Paid\n",
        "\n",
        "**En este caso, el modelo de RF ubica 3 componentes principales, en donde el más importante es 2 Type. Después de este componente, los otros dos factores importantes son 1 Page total likes y 5 Post Weekday. Para este modelo sigue siendo importante el día de la semana de la publicación, pero también considera el número de likes que tiene la página, así como el tipo de publicación -lo más importante- que se está subiendo.**"
      ]
    },
    {
      "cell_type": "markdown",
      "metadata": {
        "id": "5LJl6oql8Pc8"
      },
      "source": [
        "#**Ejercicio-11.**\n",
        "\n",
        "11. Repite el ejercicio 8 y 9 para el modelo de regresión lineal múltiple para buscar sus mejores hiperparámetros (realiza la búsqueda con aquellos hiperparámetros que consideres más adecuados) y usando el conjunto de Prueba. Y realiza igualmente el análisis de importancia de factores con este modelo con un diagrama de barras."
      ]
    },
    {
      "cell_type": "code",
      "execution_count": null,
      "metadata": {
        "id": "7f-0xlf7o2yY"
      },
      "outputs": [],
      "source": [
        "\n",
        "def do_grid_search2(model, X, y, cv, dicc_grid, scoring):\n",
        "\n",
        "    #Nuestro pipe, otra vez\n",
        "    grid_pipe = Pipeline(steps = [\n",
        "        ('cT', CT),\n",
        "        ('model', model)\n",
        "        ])\n",
        "\n",
        "    #Creamos el grid\n",
        "    grid = GridSearchCV(\n",
        "        estimator= grid_pipe, cv=cv,\n",
        "        param_grid=dicc_grid, scoring=scoring)\n",
        "\n",
        "    #Le entramos los valores. Recuerda que el .ravel() es para evitar un warning\n",
        "    grid.fit(X, y.values.ravel())\n",
        "\n",
        "    #Imprimimos resultados\n",
        "    print('Mejor valor de exactitud obtenido con la mejor combinación:', grid.best_score_)\n",
        "    print('Mejor combinación de valores encontrados de los hiperparámetros:', grid.best_params_)\n",
        "    print('Métrica utilizada:', grid.scoring)\n",
        "    \n",
        "    return grid\n",
        "\n"
      ]
    },
    {
      "cell_type": "code",
      "execution_count": null,
      "metadata": {
        "id": "-YiSnt9t8RfN",
        "outputId": "9300c9aa-33c6-4d83-fe49-c9d68cb42869"
      },
      "outputs": [
        {
          "name": "stdout",
          "output_type": "stream",
          "text": [
            "Mejor valor de exactitud obtenido con la mejor combinación: 166.07589827798714\n",
            "Mejor combinación de valores encontrados de los hiperparámetros: {'model__C': 100, 'model__class_weight': 'balanced', 'model__penalty': 'l2', 'model__solver': 'sag'}\n",
            "Métrica utilizada: make_scorer(mi_MAPE)\n"
          ]
        }
      ],
      "source": [
        "\n",
        "\n",
        "Kfold = RepeatedKFold(n_splits=5, n_repeats=3,random_state=0)\n",
        "\n",
        "dicc_grid3 = {'regressor__modela__C':[0.01,0.1,1,10,100],\n",
        "             'regressor__modela__solver':['newton-cg','lbfgs','liblinear','sag','saga'],\n",
        "             'regressor__modela__class_weight':['balanced'],\n",
        "             'regressor__modela__penalty':['l2','elasticnet']\n",
        "             }\n",
        "\n",
        "dicc_grid4 = {'model__C':[0.1,1,10,100],\n",
        "             'model__solver':['lbfgs','liblinear','sag','saga'],\n",
        "             'model__class_weight':['balanced'],\n",
        "             'model__penalty':['l2']\n",
        "             }\n",
        "  \n",
        "\n",
        "# 5.A Gridsearch con regresión logística y scorer de f1score\n",
        "LR_grid = do_grid_search2(modelos2[0], X_test, Y_test, Kfold, dicc_grid4, make_scorer(mi_MAPE))"
      ]
    },
    {
      "cell_type": "code",
      "execution_count": null,
      "metadata": {
        "id": "2iRA78ZC8Rbm",
        "outputId": "cc651951-9f65-4f01-b4b3-7c9e32dfb7be"
      },
      "outputs": [
        {
          "name": "stdout",
          "output_type": "stream",
          "text": [
            "Feature: 0, Score: 0.44500\n",
            "Feature: 1, Score: 0.28800\n",
            "Feature: 2, Score: 0.36900\n",
            "Feature: 3, Score: 0.44500\n",
            "Feature: 4, Score: 0.52300\n",
            "Feature: 5, Score: 0.37700\n",
            "Feature: 6, Score: 0.03000\n",
            "Feature: 7, Score: 0.06400\n",
            "Feature: 8, Score: 0.07700\n"
          ]
        },
        {
          "data": {
            "image/png": "[encoded data removed]",
            "text/plain": [
              "<Figure size 1224x504 with 1 Axes>"
            ]
          },
          "metadata": {},
          "output_type": "display_data"
        }
      ],
      "source": [
        "modelo_LR = LogisticRegression(penalty=LR_grid.best_params_.get('model__penalty'), \n",
        "                            max_iter=30000,\n",
        "                            C=LR_grid.best_params_.get('model__C'),\n",
        "                            solver=LR_grid.best_params_.get('model__solver'),\n",
        "                            class_weight=LR_grid.best_params_.get('model__class_weight'))\n",
        "\n",
        "#pipeline = Pipeline(steps=[('model',modelo_LR)])\n",
        "#modelo_LR_C = TransformedTargetRegressor(regressor=pipeline, \n",
        "#                                    func= y_Transform,     # transformación para ajuste del sesgo.\n",
        "#                                    inverse_func=y_antiTransform    # Para regresar los valores \"y\" en la escala original.\n",
        "#                                    ) \n",
        "\n",
        "Xct = CT.fit(X_test)\n",
        "Xxt = Xct.transform(X_test)\n",
        "\n",
        "modelo_LR.fit(Xxt, np.ravel(Y_test))\n",
        "\n",
        "importance = permutation_importance(modelo_LR, Xxt, Y_test, n_repeats=10)\n",
        "\n",
        "for i,v in enumerate(importance['importances_mean']):\n",
        "\tprint('Feature: %0d, Score: %.5f' % (i,v))\n",
        "\n",
        "plt.bar([x for x in range(len(importance['importances_mean']))], importance['importances_mean'])\n",
        "plt.show()"
      ]
    },
    {
      "cell_type": "markdown",
      "metadata": {
        "id": "tdhVOhyfo2yZ"
      },
      "source": [
        "**Conclusiones Ejercicio 11: Las variables que están en la gráfica son:**\n",
        "\n",
        "0 Category\t\n",
        "1 Page total likes\t\n",
        "2 Type\t\n",
        "3 Type\n",
        "4 Type\n",
        "5 Post Month\t\n",
        "6 Post Hour\t\n",
        "7 Post Weekday\t\n",
        "8 Paid\n",
        "\n",
        "**En este caso, trabajamos directamente con las mismas variables, pero Type se parte en 3 al aplicar el OneHotEncoder, ya que no fue válido usar el TransformedRegressor con la función LogisticRegression. En este caso, el modelo ubica importancia para todos los factores, destacando 3 y 4 Type, así como 0 Category y 5 Post Month. Podemos ver que este modelo también le da importancia al tiempo de la publicación (ahora medido en el mes) así como al tipo de la publicación, y LR agrega como componente importe la parte de Category.**"
      ]
    },
    {
      "cell_type": "markdown",
      "metadata": {
        "id": "IKW72uyk8Sbc"
      },
      "source": [
        "#**Ejercicio-12.**\n",
        "\n",
        "12. Compara tus resultados con los obtenidos por los autores del artículo de Moro-Rita-Vala con respecto a MAPE. Incluye tus conclusiones finales de la actividad."
      ]
    },
    {
      "cell_type": "markdown",
      "metadata": {
        "id": "gwpz77W38Uq0"
      },
      "source": [
        "**Conclusión General: A pesar de trabajar con los mejores hiperparámetros que pudimos encontrar, no logramos bajar el error MAPE a una medida similar a la que los investigadores presentaron en su paper, que es del 26.9. Como lo comentamos anteriormente, esto también es debido a que los autores usaron el modelo de máquinas de vectores de soporte, el mismo paper recalca que este modelo da un alto porcentaje de exactitud en el modelo.**\n",
        "\n",
        "**Desde el punto de vista de los factores principales, encontramos que en general, los 3 modelos le dan importancia al tiempo de la publicación, aunque medido en diferente forma para los 3 modelos, ya sea en el mes, día u hora de la misma publicación. El modelo LR le dio importancia a muchos factores, mientras que RF y MLP si hizo la distinción entre 3 o 4 componentes principales. De todos ellos, consideramos como mejor modelo al Random Forest debido a que incluye componentes de tiempo y tipo de publicación, en su análisis de feature importance.**\n",
        "\n",
        "**Bibliografía**\n",
        "\n",
        "Moro, S., Rita, P., & Vala, B. (2016). Predicting social media performance metrics and evaluation of the impact on brand building: A data mining approach. Journal of Business Research, 3341–3351."
      ]
    },
    {
      "cell_type": "markdown",
      "metadata": {
        "id": "7ql_r2G-DB_m"
      },
      "source": [
        "###**Fin de la Actividad de la semana 7.**"
      ]
    }
  ],
  "metadata": {
    "colab": {
      "collapsed_sections": [],
      "provenance": [],
      "include_colab_link": true
    },
    "kernelspec": {
      "display_name": "Python 3 (ipykernel)",
      "language": "python",
      "name": "python3"
    },
    "language_info": {
      "codemirror_mode": {
        "name": "ipython",
        "version": 3
      },
      "file_extension": ".py",
      "mimetype": "text/x-python",
      "name": "python",
      "nbconvert_exporter": "python",
      "pygments_lexer": "ipython3",
      "version": "3.10.5"
    }
  },
  "nbformat": 4,
  "nbformat_minor": 0
}