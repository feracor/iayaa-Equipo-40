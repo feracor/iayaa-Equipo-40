{
  "nbformat": 4,
  "nbformat_minor": 0,
  "metadata": {
    "colab": {
      "provenance": [],
      "collapsed_sections": [],
      "include_colab_link": true
    },
    "kernelspec": {
      "display_name": "Python 3",
      "name": "python3"
    }
  },
  "cells": [
    {
      "cell_type": "markdown",
      "metadata": {
        "id": "view-in-github",
        "colab_type": "text"
      },
      "source": [
        "<a href=\"https://colab.research.google.com/github/feracor/iayaa-Equipo-40/blob/main/Arboldedecision_Equipo40.ipynb\" target=\"_parent\"><img src=\"https://colab.research.google.com/assets/colab-badge.svg\" alt=\"Open In Colab\"/></a>"
      ]
    },
    {
      "cell_type": "markdown",
      "source": [
        "#**Maestría en Inteligencia Artificial Aplicada**\n",
        "##**Curso: Inteligencia Artificial y Aprendizaje Automático**\n",
        "###Tecnológico de Monterrey\n",
        "###Prof Luis Eduardo Falcón Morales\n",
        "\n",
        "## **Adtividad de la Semana 6**\n",
        "###**Árboles de decisión y bosque aleatorio.**\n"
      ],
      "metadata": {
        "id": "VFj0sSM06dYa"
      }
    },
    {
      "cell_type": "markdown",
      "source": [
        "**Nombres y matrículas de los integrantes del equipo:**\n",
        "\n",
        "*   José Fabricio Barahona Amaya. Matrícula # A01792950\n",
        "*   Giovanni Andrés Acuña Morales. Matrícula #A01794007 \n",
        "*   Fernando Acevedo Ortegate.  Matrícula # A01794022\n",
        "*   Fausto Velasco Atilano. Matricula #A01794392  \n",
        "\n",
        "\n",
        "Enlace a repositorio: https://github.com/feracor/iayaa-Equipo-40/blob/main/Arboldedecision_Equipo40.ipynb\n"
      ],
      "metadata": {
        "id": "Qgrvy0RGB9XI"
      }
    },
    {
      "cell_type": "markdown",
      "source": [
        "En cada sección deberás incluir todas las líneas de código necesarias para responder a cada uno de los ejercicios."
      ],
      "metadata": {
        "id": "FrJ2ahMODVj1"
      }
    },
    {
      "cell_type": "code",
      "source": [
        "# Incluye aquí todos módulos, librerías y paquetes que requieras.\n",
        "import pandas as pd\n",
        "import numpy as np\n",
        "import zipfile as zf\n",
        "import requests\n",
        "import io\n",
        "from sklearn.model_selection import train_test_split\n",
        "from sklearn.ensemble import RandomForestClassifier\n",
        "from sklearn.linear_model import LogisticRegression\n",
        "from sklearn import tree\n",
        "from sklearn.impute import SimpleImputer\n",
        "from sklearn.compose import ColumnTransformer\n",
        "from sklearn.pipeline import Pipeline\n",
        "from sklearn.preprocessing import OrdinalEncoder\n",
        "from sklearn.preprocessing import StandardScaler, OneHotEncoder, MinMaxScaler\n",
        "from sklearn.metrics import confusion_matrix\n",
        "from sklearn.tree import DecisionTreeClassifier\n",
        "from pandas.core.arrays import categorical\n",
        "import matplotlib.pyplot as plt \n",
        "import seaborn as sns \n",
        "from sklearn.model_selection import  cross_validate,RepeatedStratifiedKFold\n",
        "from sklearn.metrics import classification_report, make_scorer\n",
        "from imblearn.under_sampling import TomekLinks\n",
        "from imblearn.over_sampling import SMOTE\n",
        "from imblearn.combine import SMOTEENN\n",
        "from imblearn.over_sampling import RandomOverSampler\n",
        "\n",
        "from sklearn.model_selection import cross_val_score \n",
        "from imblearn.pipeline import make_pipeline\n",
        "from sklearn.model_selection import learning_curve, validation_curve, GridSearchCV\n",
        "import warnings\n",
        "warnings.filterwarnings('ignore')"
      ],
      "metadata": {
        "id": "exXsscs-Dh-2"
      },
      "execution_count": 2,
      "outputs": []
    },
    {
      "cell_type": "markdown",
      "metadata": {
        "id": "X25brD-gQdZM"
      },
      "source": [
        "#**Ejercicio-1.** \n",
        "\n",
        "1. Carga los datos y sustituye los nombres de las columnas del alemán al inglés de acuerdo a como\n",
        "se indica en la página de la UCI.\n",
        "NOTA: Si lo deseas, puedes traducirlos y ponerlas en español. "
      ]
    },
    {
      "cell_type": "code",
      "source": [
        "#https://archive.ics.uci.edu/ml/machine-learning-databases/00522/SouthGermanCredit.zip\n",
        "result = requests.get(\"https://archive.ics.uci.edu/ml/machine-learning-databases/00522/SouthGermanCredit.zip\")\n",
        "names = [\"status\", \"duration\", \"credit_history\", \"purpose\", \"amount\", \n",
        "                \"savings\", \"employment_duration\", \"installment_rate\",\n",
        "                \"personal_status_sex\", \"other_debtors\",\n",
        "                \"present_residence\", \"property\",\n",
        "                \"age\", \"other_installment_plans\",\n",
        "                \"housing\", \"number_credits\",\n",
        "                \"job\", \"people_liable\", \"telephone\", \"foreign_worker\",\n",
        "                \"credit_risk\"]\n",
        "file_like_object = io.BytesIO(result.content)\n",
        "z = zf.ZipFile(file_like_object)\n",
        "with z.open(\"SouthGermanCredit.asc\") as f:\n",
        "  creditData = pd.read_csv(f, header=0, delimiter=\" \")\n",
        "  creditData = creditData.set_axis(names, axis=1, inplace=False)\n",
        "  print(creditData.head())    # print the first 5 rows\n",
        "  "
      ],
      "metadata": {
        "id": "3nU2GuWYCy6C",
        "colab": {
          "base_uri": "https://localhost:8080/",
          "height": 0
        },
        "outputId": "c7d47455-86a0-4011-859d-2157b0665c59"
      },
      "execution_count": 29,
      "outputs": [
        {
          "output_type": "stream",
          "name": "stdout",
          "text": [
            "   status  duration  credit_history  purpose  amount  savings  \\\n",
            "0       1        18               4        2    1049        1   \n",
            "1       1         9               4        0    2799        1   \n",
            "2       2        12               2        9     841        2   \n",
            "3       1        12               4        0    2122        1   \n",
            "4       1        12               4        0    2171        1   \n",
            "\n",
            "   employment_duration  installment_rate  personal_status_sex  other_debtors  \\\n",
            "0                    2                 4                    2              1   \n",
            "1                    3                 2                    3              1   \n",
            "2                    4                 2                    2              1   \n",
            "3                    3                 3                    3              1   \n",
            "4                    3                 4                    3              1   \n",
            "\n",
            "   ...  property  age  other_installment_plans  housing  number_credits  job  \\\n",
            "0  ...         2   21                        3        1               1    3   \n",
            "1  ...         1   36                        3        1               2    3   \n",
            "2  ...         1   23                        3        1               1    2   \n",
            "3  ...         1   39                        3        1               2    2   \n",
            "4  ...         2   38                        1        2               2    2   \n",
            "\n",
            "   people_liable  telephone  foreign_worker  credit_risk  \n",
            "0              2          1               2            1  \n",
            "1              1          1               2            1  \n",
            "2              2          1               2            1  \n",
            "3              1          1               1            1  \n",
            "4              2          1               1            1  \n",
            "\n",
            "[5 rows x 21 columns]\n"
          ]
        }
      ]
    },
    {
      "cell_type": "code",
      "source": [
        "creditData.credit_risk.value_counts()"
      ],
      "metadata": {
        "colab": {
          "base_uri": "https://localhost:8080/",
          "height": 0
        },
        "id": "C9CpAJlLOyJ4",
        "outputId": "d64920fe-cd9f-47e2-eeb0-39b229a6244f"
      },
      "execution_count": 30,
      "outputs": [
        {
          "output_type": "execute_result",
          "data": {
            "text/plain": [
              "1    700\n",
              "0    300\n",
              "Name: credit_risk, dtype: int64"
            ]
          },
          "metadata": {},
          "execution_count": 30
        }
      ]
    },
    {
      "cell_type": "code",
      "source": [
        "y=creditData.iloc[:,-1]\n",
        "X=creditData.iloc[:,0:-1]"
      ],
      "metadata": {
        "id": "0ulkqXVGCy97"
      },
      "execution_count": 4,
      "outputs": []
    },
    {
      "cell_type": "markdown",
      "source": [
        "#**Ejercicio-2.**\n",
        "\n",
        " Realiza una partición de los datos en el conjunto de entrenamiento del 85% y el de prueba de \n",
        "15%. Los modelos se estarán entrenando con el método de validación cruzada, así que no es \n",
        "necesario en este paso generar el conjunto de validación. Define como la variable X a todas las \n",
        "variables de entrada y a la variable Y como la variable de salida. \n",
        "\n",
        "Column name: laufkont\n",
        "Variable name: status\n",
        "Content: status of the debtor's checking account with the bank (categorical)\n",
        "\n",
        "Column name: laufzeit\n",
        "Variable name: duration\n",
        "Content: credit duration in months (quantitative)\n",
        "\n",
        "Column name: moral\n",
        "Variable name: credit_history\n",
        "Content: history of compliance with previous or concurrent credit contracts (categorical)\n",
        "\n",
        "Column name: verw\n",
        "Variable name: purpose\n",
        "Content: purpose for which the credit is needed (categorical)\n",
        "\n",
        "Column name: hoehe\n",
        "Variable name: amount\n",
        "Content: credit amount in DM (quantitative; result of monotonic transformation; actual data and type of\n",
        "transformation unknown)\n",
        "\n",
        "Column name: sparkont\n",
        "Variable name: savings\n",
        "Content: debtor's savings (categorical)\n",
        "\n",
        "Column name: beszeit\n",
        "Variable name: employment_duration\n",
        "Content: duration of debtor's employment with current employer (ordinal; discretized quantitative)\n",
        "\n",
        "Column name: rate\n",
        "Variable name: installment_rate\n",
        "Content: credit installments as a percentage of debtor's disposable income (ordinal; discretized quantitative)\n",
        "\n",
        "Column name: famges\n",
        "Variable name: personal_status_sex\n",
        "Content: combined information on sex and marital status; categorical; sex cannot be recovered from the\n",
        "variable, because male singles and female non-singles are coded with the same code (2); female widows cannot\n",
        "be easily classified, because the code table does not list them in any of the female categories\n",
        "\n",
        "Column name: buerge\n",
        "Variable name: other_debtors\n",
        "Content: Is there another debtor or a guarantor for the credit? (categorical)\n",
        "\n",
        "Column name: wohnzeit\n",
        "Variable name: present_residence\n",
        "Content: length of time (in years) the debtor lives in the present residence (ordinal; discretized quantitative)\n",
        "\n",
        "Column name: verm\n",
        "Variable name: property\n",
        "Content: the debtor's most valuable property, i.e. the highest possible code is used. Code 2 is used, if codes 3\n",
        "or 4 are not applicable and there is a car or any other relevant property that does not fall under variable\n",
        "sparkont. (ordinal)\n",
        "\n",
        "Column name: alter\n",
        "Variable name: age\n",
        "Content: age in years (quantitative)\n",
        "\n",
        "Column name: weitkred\n",
        "Variable name: other_installment_plans\n",
        "Content: installment plans from providers other than the credit-giving bank (categorical)\n",
        "\n",
        "Column name: wohn\n",
        "Variable name: housing\n",
        "Content: type of housing the debtor lives in (categorical)\n",
        "\n",
        "Column name: bishkred\n",
        "Variable name: number_credits\n",
        "Content: number of credits including the current one the debtor has (or had) at this bank (ordinal, discretized\n",
        "quantitative); contrary to Fahrmeir and HamerleÃ¢â‚¬â„¢s (1984) statement, the original data values are not available.\n",
        "\n",
        "Column name: beruf\n",
        "Variable name: job\n",
        "Content: quality of debtor's job (ordinal)\n",
        "\n",
        "Column name: pers\n",
        "Variable name: people_liable\n",
        "Content: number of persons who financially depend on the debtor (i.e., are entitled to maintenance) (binary,\n",
        "discretized quantitative)\n",
        "\n",
        "Column name: telef\n",
        "Variable name: telephone\n",
        "Content: Is there a telephone landline registered on the debtor's name? (binary; remember that the data are\n",
        "from the 1970s)\n",
        "\n",
        "Column name: gastarb\n",
        "Variable name: foreign_worker\n",
        "Content: Is the debtor a foreign worker? (binary)\n",
        "\n",
        "Column name: kredit\n",
        "Variable name: credit_risk\n",
        "Content: Has the credit contract been complied with (good) or not (bad) ? (binary)"
      ],
      "metadata": {
        "id": "xZhr2hkECzVv"
      }
    },
    {
      "cell_type": "code",
      "source": [
        "X_train, X_test, y_train, y_test = train_test_split(X, y, stratify=y, test_size=0.15)\n",
        "X.people_liable.value_counts()"
      ],
      "metadata": {
        "id": "kGfAoOPkC1PP",
        "colab": {
          "base_uri": "https://localhost:8080/",
          "height": 0
        },
        "outputId": "9c2eb7dd-9fb6-47a3-93c9-6927122e2b31"
      },
      "execution_count": 5,
      "outputs": [
        {
          "output_type": "execute_result",
          "data": {
            "text/plain": [
              "2    845\n",
              "1    155\n",
              "Name: people_liable, dtype: int64"
            ]
          },
          "metadata": {},
          "execution_count": 5
        }
      ]
    },
    {
      "cell_type": "code",
      "source": [
        "status = [\"no checking account\",\n",
        "                         \"... < 0 DM\",\n",
        "                         \"0<= ... < 200 DM\",\n",
        "                         \"... >= 200 DM / salary for at least 1 year\"]\n",
        "\n",
        "credit_history = [ \"delay in paying off in the past\",\n",
        "  \"critical account/other credits elsewhere\",\n",
        "  \"no credits taken/all credits paid back duly\",\n",
        "  \"existing credits paid back duly till now\",\n",
        "  \"all credits at this bank paid back duly\"]\n",
        "purpose = [\n",
        "  \"others\",\n",
        "  \"car (new)\",\n",
        "  \"car (used)\",\n",
        "  \"furniture/equipment\",\n",
        "  \"radio/television\",\n",
        "  \"domestic appliances\",\n",
        "  \"repairs\",\n",
        "  \"education\", \n",
        "  \"vacation\",\n",
        "  \"retraining\",\n",
        "  \"business\"]\n",
        "other_debtors=[\n",
        "  \"none\",\n",
        "  \"co-applicant\",\n",
        "  \"guarantor\"]\n",
        "personal_status_sex = [\n",
        "  \"male : divorced/separated\",\n",
        "  \"female : non-single or male : single\",\n",
        "  \"male : married/widowed\",\n",
        "  \"female : single\"]\n",
        "other_installment_plans=[\n",
        "  \"bank\",\n",
        "  \"stores\",\n",
        "  \"none\"]\n",
        "housing=[\"for free\", \"rent\", \"own\"]\n",
        "telephone =[\"no\", \"yes (under customer name)\"]\n",
        "foreign_worker =[\"yes\", \"no\"]\n",
        "savings =[\"unknown/no savings account\",\n",
        "                         \"... <  100 DM\", \n",
        "                         \"100 <= ... <  500 DM\",\n",
        "                         \"500 <= ... < 1000 DM\", \n",
        "                         \"... >= 1000 DM\"]\n",
        "X.dtypes\n",
        "categorical_columns = [\"status\", \"credit_history\",\"savings\", \"purpose\", \"other_debtors\",\"personal_status_sex\",\"other_installment_plans\",\"housing\",\"telephone\",\"people_liable\",\"foreign_worker\"]\n",
        "numerical_columns = [\"duration\", \"amount\",\"age\"]\n",
        "ordinal_columns=[ \"employment_duration\", \"installment_rate\", \"present_residence\",\"property\",\"job\",\"number_credits\"]\n",
        "\n",
        "numeric_transformer = Pipeline(steps=[(\"imputer\", SimpleImputer(strategy=\"median\")), (\"scaler\", StandardScaler())])\n",
        "categorical_transformer = OneHotEncoder(handle_unknown=\"ignore\")\n",
        "X[numerical_columns].describe()"
      ],
      "metadata": {
        "id": "GOydw5OGC1MJ",
        "colab": {
          "base_uri": "https://localhost:8080/",
          "height": 300
        },
        "outputId": "34c86dfb-3a23-4d87-cc6c-97fa757d8dc2"
      },
      "execution_count": 6,
      "outputs": [
        {
          "output_type": "execute_result",
          "data": {
            "text/plain": [
              "          duration       amount         age\n",
              "count  1000.000000   1000.00000  1000.00000\n",
              "mean     20.903000   3271.24800    35.54200\n",
              "std      12.058814   2822.75176    11.35267\n",
              "min       4.000000    250.00000    19.00000\n",
              "25%      12.000000   1365.50000    27.00000\n",
              "50%      18.000000   2319.50000    33.00000\n",
              "75%      24.000000   3972.25000    42.00000\n",
              "max      72.000000  18424.00000    75.00000"
            ],
            "text/html": [
              "\n",
              "  <div id=\"df-e7fad477-3cc1-4111-9207-74a43e63b775\">\n",
              "    <div class=\"colab-df-container\">\n",
              "      <div>\n",
              "<style scoped>\n",
              "    .dataframe tbody tr th:only-of-type {\n",
              "        vertical-align: middle;\n",
              "    }\n",
              "\n",
              "    .dataframe tbody tr th {\n",
              "        vertical-align: top;\n",
              "    }\n",
              "\n",
              "    .dataframe thead th {\n",
              "        text-align: right;\n",
              "    }\n",
              "</style>\n",
              "<table border=\"1\" class=\"dataframe\">\n",
              "  <thead>\n",
              "    <tr style=\"text-align: right;\">\n",
              "      <th></th>\n",
              "      <th>duration</th>\n",
              "      <th>amount</th>\n",
              "      <th>age</th>\n",
              "    </tr>\n",
              "  </thead>\n",
              "  <tbody>\n",
              "    <tr>\n",
              "      <th>count</th>\n",
              "      <td>1000.000000</td>\n",
              "      <td>1000.00000</td>\n",
              "      <td>1000.00000</td>\n",
              "    </tr>\n",
              "    <tr>\n",
              "      <th>mean</th>\n",
              "      <td>20.903000</td>\n",
              "      <td>3271.24800</td>\n",
              "      <td>35.54200</td>\n",
              "    </tr>\n",
              "    <tr>\n",
              "      <th>std</th>\n",
              "      <td>12.058814</td>\n",
              "      <td>2822.75176</td>\n",
              "      <td>11.35267</td>\n",
              "    </tr>\n",
              "    <tr>\n",
              "      <th>min</th>\n",
              "      <td>4.000000</td>\n",
              "      <td>250.00000</td>\n",
              "      <td>19.00000</td>\n",
              "    </tr>\n",
              "    <tr>\n",
              "      <th>25%</th>\n",
              "      <td>12.000000</td>\n",
              "      <td>1365.50000</td>\n",
              "      <td>27.00000</td>\n",
              "    </tr>\n",
              "    <tr>\n",
              "      <th>50%</th>\n",
              "      <td>18.000000</td>\n",
              "      <td>2319.50000</td>\n",
              "      <td>33.00000</td>\n",
              "    </tr>\n",
              "    <tr>\n",
              "      <th>75%</th>\n",
              "      <td>24.000000</td>\n",
              "      <td>3972.25000</td>\n",
              "      <td>42.00000</td>\n",
              "    </tr>\n",
              "    <tr>\n",
              "      <th>max</th>\n",
              "      <td>72.000000</td>\n",
              "      <td>18424.00000</td>\n",
              "      <td>75.00000</td>\n",
              "    </tr>\n",
              "  </tbody>\n",
              "</table>\n",
              "</div>\n",
              "      <button class=\"colab-df-convert\" onclick=\"convertToInteractive('df-e7fad477-3cc1-4111-9207-74a43e63b775')\"\n",
              "              title=\"Convert this dataframe to an interactive table.\"\n",
              "              style=\"display:none;\">\n",
              "        \n",
              "  <svg xmlns=\"http://www.w3.org/2000/svg\" height=\"24px\"viewBox=\"0 0 24 24\"\n",
              "       width=\"24px\">\n",
              "    <path d=\"M0 0h24v24H0V0z\" fill=\"none\"/>\n",
              "    <path d=\"M18.56 5.44l.94 2.06.94-2.06 2.06-.94-2.06-.94-.94-2.06-.94 2.06-2.06.94zm-11 1L8.5 8.5l.94-2.06 2.06-.94-2.06-.94L8.5 2.5l-.94 2.06-2.06.94zm10 10l.94 2.06.94-2.06 2.06-.94-2.06-.94-.94-2.06-.94 2.06-2.06.94z\"/><path d=\"M17.41 7.96l-1.37-1.37c-.4-.4-.92-.59-1.43-.59-.52 0-1.04.2-1.43.59L10.3 9.45l-7.72 7.72c-.78.78-.78 2.05 0 2.83L4 21.41c.39.39.9.59 1.41.59.51 0 1.02-.2 1.41-.59l7.78-7.78 2.81-2.81c.8-.78.8-2.07 0-2.86zM5.41 20L4 18.59l7.72-7.72 1.47 1.35L5.41 20z\"/>\n",
              "  </svg>\n",
              "      </button>\n",
              "      \n",
              "  <style>\n",
              "    .colab-df-container {\n",
              "      display:flex;\n",
              "      flex-wrap:wrap;\n",
              "      gap: 12px;\n",
              "    }\n",
              "\n",
              "    .colab-df-convert {\n",
              "      background-color: #E8F0FE;\n",
              "      border: none;\n",
              "      border-radius: 50%;\n",
              "      cursor: pointer;\n",
              "      display: none;\n",
              "      fill: #1967D2;\n",
              "      height: 32px;\n",
              "      padding: 0 0 0 0;\n",
              "      width: 32px;\n",
              "    }\n",
              "\n",
              "    .colab-df-convert:hover {\n",
              "      background-color: #E2EBFA;\n",
              "      box-shadow: 0px 1px 2px rgba(60, 64, 67, 0.3), 0px 1px 3px 1px rgba(60, 64, 67, 0.15);\n",
              "      fill: #174EA6;\n",
              "    }\n",
              "\n",
              "    [theme=dark] .colab-df-convert {\n",
              "      background-color: #3B4455;\n",
              "      fill: #D2E3FC;\n",
              "    }\n",
              "\n",
              "    [theme=dark] .colab-df-convert:hover {\n",
              "      background-color: #434B5C;\n",
              "      box-shadow: 0px 1px 3px 1px rgba(0, 0, 0, 0.15);\n",
              "      filter: drop-shadow(0px 1px 2px rgba(0, 0, 0, 0.3));\n",
              "      fill: #FFFFFF;\n",
              "    }\n",
              "  </style>\n",
              "\n",
              "      <script>\n",
              "        const buttonEl =\n",
              "          document.querySelector('#df-e7fad477-3cc1-4111-9207-74a43e63b775 button.colab-df-convert');\n",
              "        buttonEl.style.display =\n",
              "          google.colab.kernel.accessAllowed ? 'block' : 'none';\n",
              "\n",
              "        async function convertToInteractive(key) {\n",
              "          const element = document.querySelector('#df-e7fad477-3cc1-4111-9207-74a43e63b775');\n",
              "          const dataTable =\n",
              "            await google.colab.kernel.invokeFunction('convertToInteractive',\n",
              "                                                     [key], {});\n",
              "          if (!dataTable) return;\n",
              "\n",
              "          const docLinkHtml = 'Like what you see? Visit the ' +\n",
              "            '<a target=\"_blank\" href=https://colab.research.google.com/notebooks/data_table.ipynb>data table notebook</a>'\n",
              "            + ' to learn more about interactive tables.';\n",
              "          element.innerHTML = '';\n",
              "          dataTable['output_type'] = 'display_data';\n",
              "          await google.colab.output.renderOutput(dataTable, element);\n",
              "          const docLink = document.createElement('div');\n",
              "          docLink.innerHTML = docLinkHtml;\n",
              "          element.appendChild(docLink);\n",
              "        }\n",
              "      </script>\n",
              "    </div>\n",
              "  </div>\n",
              "  "
            ]
          },
          "metadata": {},
          "execution_count": 6
        }
      ]
    },
    {
      "cell_type": "markdown",
      "source": [
        "#**Ejercicio-3.**\n",
        "3.  Como una primera aproximación (baseline) realizarás las siguientes transformaciones mínimas \n",
        "para generar los primeros modelos. En la misma página de la UCI se indica el tipo de variable de \n",
        "cada uno de los factores. Definen cuatro tipo de variables: categórica (categorical), ordinal \n",
        "(discretized quantitative), numérica (quantitative) y binaria (binary). Con base a dicha \n",
        "información realiza un Pipeline que incluya al menos las siguientes transformaciones: \n"
      ],
      "metadata": {
        "id": "NCunuooTC2W3"
      }
    },
    {
      "cell_type": "markdown",
      "source": [
        "###a.  \n",
        "Imputación a todas las variables de entrada, diferenciando entre el tipo de cada variable (decide y justifica que tipo de imputación realizas en cada caso). \n"
      ],
      "metadata": {
        "id": "fL78pmk0qvic"
      }
    },
    {
      "cell_type": "code",
      "source": [
        "#Columnas categoricas\n",
        "df_cate = ['status','credit_history','purpose','savings','personal_status_sex','other_debtors','other_installment_plans','housing','telephone']\n",
        "#columnas ordinales \n",
        "df_ord = ['employment_duration','installment_rate','present_residence','property','number_credits','job']\n",
        "#columnas numericas \n",
        "df_num = ['duration','amount','age']\n",
        "#columnas binarias\n",
        "df_bin = ['people_liable','telephone','foreign_worker']"
      ],
      "metadata": {
        "id": "T6yh2C9N8T2w"
      },
      "execution_count": 7,
      "outputs": []
    },
    {
      "cell_type": "markdown",
      "source": [
        "Explicación de selección de columnas:\n",
        "\n",
        "Categoricas: Almacena las columnas que se concideran categoricas.\n",
        "\n",
        "Ordinales: Almacena las columnas con información que se catalogan o cumplen condiciones de rangos.\n",
        "\n",
        "Binarias: Almacena columnas con información entre 0 y 1.\n",
        "\n",
        "Númericos: Almacena las columnas con data de tipo númerico y decimales (int, float)"
      ],
      "metadata": {
        "id": "CBiSDkBp3dzt"
      }
    },
    {
      "cell_type": "code",
      "source": [
        "#Verificar datos nulos\n",
        "X_train.isnull().sum()"
      ],
      "metadata": {
        "colab": {
          "base_uri": "https://localhost:8080/",
          "height": 0
        },
        "id": "ZYensSNT8T0T",
        "outputId": "6c0d580a-0926-48b2-af20-fd18937bf5ea"
      },
      "execution_count": 8,
      "outputs": [
        {
          "output_type": "execute_result",
          "data": {
            "text/plain": [
              "status                     0\n",
              "duration                   0\n",
              "credit_history             0\n",
              "purpose                    0\n",
              "amount                     0\n",
              "savings                    0\n",
              "employment_duration        0\n",
              "installment_rate           0\n",
              "personal_status_sex        0\n",
              "other_debtors              0\n",
              "present_residence          0\n",
              "property                   0\n",
              "age                        0\n",
              "other_installment_plans    0\n",
              "housing                    0\n",
              "number_credits             0\n",
              "job                        0\n",
              "people_liable              0\n",
              "telephone                  0\n",
              "foreign_worker             0\n",
              "dtype: int64"
            ]
          },
          "metadata": {},
          "execution_count": 8
        }
      ]
    },
    {
      "cell_type": "markdown",
      "source": [
        "###b.  \n",
        "Realiza un análisis de las variables numéricas (quantitative) de entrada y aplica una  transformación que escale a todas ellas en un rango equiparable. \n"
      ],
      "metadata": {
        "id": "1FGrvaXwq0-L"
      }
    },
    {
      "cell_type": "code",
      "source": [
        "df_num_pip= Pipeline(steps = [('impMean', SimpleImputer(strategy='median')), ('scalar', MinMaxScaler(feature_range=(1,2)))])\n",
        "\n",
        "df_cate_pip = Pipeline(steps = [('impModa', SimpleImputer(strategy='most_frequent')),('OneHotE', OneHotEncoder(handle_unknown=\"ignore\"))])\n",
        "\n",
        "df_bin_pip = Pipeline(steps = [('impModa', SimpleImputer(strategy='most_frequent')),('OneHotE', OneHotEncoder(handle_unknown=\"ignore\"))])"
      ],
      "metadata": {
        "id": "076Sm-Dt8Txx"
      },
      "execution_count": 9,
      "outputs": []
    },
    {
      "cell_type": "markdown",
      "source": [
        "###c.  \n",
        "Aplica la transformación One-Hot encoding a las variables de entrada de tipo categórico y binaria. En particular, justifica por qué una variable binaria requeriría que se le aplique  la  transformación one-hot encoding. Por el momento dejar las variables ordinales sin transformar. "
      ],
      "metadata": {
        "id": "15RrYYAaq07s"
      }
    },
    {
      "cell_type": "code",
      "source": [
        "Col_Trans = ColumnTransformer(transformers=[('numericas', df_num_pip, df_num), \n",
        "                                            ('categoricas', df_cate_pip, df_cate), \n",
        "                                            ('binarias', df_bin_pip, df_bin)], \n",
        "                                            remainder='passthrough')\n",
        "\n",
        "#Ver las trasnformaciones y analizar lo que que necesitamos\n",
        "X_train_fit = Col_Trans.fit(X_train)\n",
        "pd.DataFrame(X_train_fit.transform(X_train))"
      ],
      "metadata": {
        "colab": {
          "base_uri": "https://localhost:8080/",
          "height": 424
        },
        "id": "xaHdKQ408Tva",
        "outputId": "53a4b358-a72b-4eb3-9aac-a88f6238966d"
      },
      "execution_count": 10,
      "outputs": [
        {
          "output_type": "execute_result",
          "data": {
            "text/plain": [
              "           0         1         2    3    4    5    6    7    8    9   ...  \\\n",
              "0    1.303571  1.186026  1.142857  0.0  1.0  0.0  0.0  0.0  0.0  0.0  ...   \n",
              "1    1.196429  1.071248  1.267857  0.0  0.0  0.0  1.0  0.0  1.0  0.0  ...   \n",
              "2    1.357143  1.134560  1.017857  0.0  1.0  0.0  0.0  0.0  0.0  1.0  ...   \n",
              "3    1.142857  1.055819  1.035714  1.0  0.0  0.0  0.0  0.0  0.0  1.0  ...   \n",
              "4    1.250000  1.100507  1.321429  0.0  0.0  1.0  0.0  0.0  0.0  1.0  ...   \n",
              "..        ...       ...       ...  ...  ...  ...  ...  ...  ...  ...  ...   \n",
              "845  1.785714  1.265594  1.196429  0.0  1.0  0.0  0.0  0.0  0.0  0.0  ...   \n",
              "846  1.410714  1.119352  1.428571  1.0  0.0  0.0  0.0  0.0  0.0  0.0  ...   \n",
              "847  1.035714  1.023859  1.142857  0.0  0.0  1.0  0.0  0.0  0.0  1.0  ...   \n",
              "848  1.357143  1.059456  1.107143  0.0  1.0  0.0  0.0  0.0  0.0  1.0  ...   \n",
              "849  1.250000  1.065958  1.357143  0.0  0.0  0.0  1.0  0.0  0.0  1.0  ...   \n",
              "\n",
              "      44   45   46   47   48   49   50   51   52   53  \n",
              "0    1.0  0.0  0.0  1.0  4.0  2.0  3.0  2.0  2.0  3.0  \n",
              "1    1.0  0.0  0.0  1.0  5.0  4.0  4.0  3.0  1.0  2.0  \n",
              "2    0.0  1.0  0.0  1.0  3.0  3.0  4.0  2.0  1.0  2.0  \n",
              "3    1.0  0.0  0.0  1.0  3.0  4.0  1.0  2.0  1.0  2.0  \n",
              "4    1.0  0.0  0.0  1.0  3.0  4.0  2.0  1.0  1.0  3.0  \n",
              "..   ...  ...  ...  ...  ...  ...  ...  ...  ...  ...  \n",
              "845  0.0  1.0  0.0  1.0  3.0  2.0  3.0  3.0  1.0  4.0  \n",
              "846  0.0  1.0  0.0  1.0  5.0  4.0  4.0  3.0  4.0  4.0  \n",
              "847  1.0  0.0  1.0  0.0  2.0  2.0  2.0  1.0  1.0  1.0  \n",
              "848  0.0  1.0  0.0  1.0  2.0  3.0  4.0  3.0  1.0  2.0  \n",
              "849  0.0  1.0  0.0  1.0  2.0  3.0  4.0  1.0  1.0  3.0  \n",
              "\n",
              "[850 rows x 54 columns]"
            ],
            "text/html": [
              "\n",
              "  <div id=\"df-b0001705-1514-4915-a27e-c411edbaae0e\">\n",
              "    <div class=\"colab-df-container\">\n",
              "      <div>\n",
              "<style scoped>\n",
              "    .dataframe tbody tr th:only-of-type {\n",
              "        vertical-align: middle;\n",
              "    }\n",
              "\n",
              "    .dataframe tbody tr th {\n",
              "        vertical-align: top;\n",
              "    }\n",
              "\n",
              "    .dataframe thead th {\n",
              "        text-align: right;\n",
              "    }\n",
              "</style>\n",
              "<table border=\"1\" class=\"dataframe\">\n",
              "  <thead>\n",
              "    <tr style=\"text-align: right;\">\n",
              "      <th></th>\n",
              "      <th>0</th>\n",
              "      <th>1</th>\n",
              "      <th>2</th>\n",
              "      <th>3</th>\n",
              "      <th>4</th>\n",
              "      <th>5</th>\n",
              "      <th>6</th>\n",
              "      <th>7</th>\n",
              "      <th>8</th>\n",
              "      <th>9</th>\n",
              "      <th>...</th>\n",
              "      <th>44</th>\n",
              "      <th>45</th>\n",
              "      <th>46</th>\n",
              "      <th>47</th>\n",
              "      <th>48</th>\n",
              "      <th>49</th>\n",
              "      <th>50</th>\n",
              "      <th>51</th>\n",
              "      <th>52</th>\n",
              "      <th>53</th>\n",
              "    </tr>\n",
              "  </thead>\n",
              "  <tbody>\n",
              "    <tr>\n",
              "      <th>0</th>\n",
              "      <td>1.303571</td>\n",
              "      <td>1.186026</td>\n",
              "      <td>1.142857</td>\n",
              "      <td>0.0</td>\n",
              "      <td>1.0</td>\n",
              "      <td>0.0</td>\n",
              "      <td>0.0</td>\n",
              "      <td>0.0</td>\n",
              "      <td>0.0</td>\n",
              "      <td>0.0</td>\n",
              "      <td>...</td>\n",
              "      <td>1.0</td>\n",
              "      <td>0.0</td>\n",
              "      <td>0.0</td>\n",
              "      <td>1.0</td>\n",
              "      <td>4.0</td>\n",
              "      <td>2.0</td>\n",
              "      <td>3.0</td>\n",
              "      <td>2.0</td>\n",
              "      <td>2.0</td>\n",
              "      <td>3.0</td>\n",
              "    </tr>\n",
              "    <tr>\n",
              "      <th>1</th>\n",
              "      <td>1.196429</td>\n",
              "      <td>1.071248</td>\n",
              "      <td>1.267857</td>\n",
              "      <td>0.0</td>\n",
              "      <td>0.0</td>\n",
              "      <td>0.0</td>\n",
              "      <td>1.0</td>\n",
              "      <td>0.0</td>\n",
              "      <td>1.0</td>\n",
              "      <td>0.0</td>\n",
              "      <td>...</td>\n",
              "      <td>1.0</td>\n",
              "      <td>0.0</td>\n",
              "      <td>0.0</td>\n",
              "      <td>1.0</td>\n",
              "      <td>5.0</td>\n",
              "      <td>4.0</td>\n",
              "      <td>4.0</td>\n",
              "      <td>3.0</td>\n",
              "      <td>1.0</td>\n",
              "      <td>2.0</td>\n",
              "    </tr>\n",
              "    <tr>\n",
              "      <th>2</th>\n",
              "      <td>1.357143</td>\n",
              "      <td>1.134560</td>\n",
              "      <td>1.017857</td>\n",
              "      <td>0.0</td>\n",
              "      <td>1.0</td>\n",
              "      <td>0.0</td>\n",
              "      <td>0.0</td>\n",
              "      <td>0.0</td>\n",
              "      <td>0.0</td>\n",
              "      <td>1.0</td>\n",
              "      <td>...</td>\n",
              "      <td>0.0</td>\n",
              "      <td>1.0</td>\n",
              "      <td>0.0</td>\n",
              "      <td>1.0</td>\n",
              "      <td>3.0</td>\n",
              "      <td>3.0</td>\n",
              "      <td>4.0</td>\n",
              "      <td>2.0</td>\n",
              "      <td>1.0</td>\n",
              "      <td>2.0</td>\n",
              "    </tr>\n",
              "    <tr>\n",
              "      <th>3</th>\n",
              "      <td>1.142857</td>\n",
              "      <td>1.055819</td>\n",
              "      <td>1.035714</td>\n",
              "      <td>1.0</td>\n",
              "      <td>0.0</td>\n",
              "      <td>0.0</td>\n",
              "      <td>0.0</td>\n",
              "      <td>0.0</td>\n",
              "      <td>0.0</td>\n",
              "      <td>1.0</td>\n",
              "      <td>...</td>\n",
              "      <td>1.0</td>\n",
              "      <td>0.0</td>\n",
              "      <td>0.0</td>\n",
              "      <td>1.0</td>\n",
              "      <td>3.0</td>\n",
              "      <td>4.0</td>\n",
              "      <td>1.0</td>\n",
              "      <td>2.0</td>\n",
              "      <td>1.0</td>\n",
              "      <td>2.0</td>\n",
              "    </tr>\n",
              "    <tr>\n",
              "      <th>4</th>\n",
              "      <td>1.250000</td>\n",
              "      <td>1.100507</td>\n",
              "      <td>1.321429</td>\n",
              "      <td>0.0</td>\n",
              "      <td>0.0</td>\n",
              "      <td>1.0</td>\n",
              "      <td>0.0</td>\n",
              "      <td>0.0</td>\n",
              "      <td>0.0</td>\n",
              "      <td>1.0</td>\n",
              "      <td>...</td>\n",
              "      <td>1.0</td>\n",
              "      <td>0.0</td>\n",
              "      <td>0.0</td>\n",
              "      <td>1.0</td>\n",
              "      <td>3.0</td>\n",
              "      <td>4.0</td>\n",
              "      <td>2.0</td>\n",
              "      <td>1.0</td>\n",
              "      <td>1.0</td>\n",
              "      <td>3.0</td>\n",
              "    </tr>\n",
              "    <tr>\n",
              "      <th>...</th>\n",
              "      <td>...</td>\n",
              "      <td>...</td>\n",
              "      <td>...</td>\n",
              "      <td>...</td>\n",
              "      <td>...</td>\n",
              "      <td>...</td>\n",
              "      <td>...</td>\n",
              "      <td>...</td>\n",
              "      <td>...</td>\n",
              "      <td>...</td>\n",
              "      <td>...</td>\n",
              "      <td>...</td>\n",
              "      <td>...</td>\n",
              "      <td>...</td>\n",
              "      <td>...</td>\n",
              "      <td>...</td>\n",
              "      <td>...</td>\n",
              "      <td>...</td>\n",
              "      <td>...</td>\n",
              "      <td>...</td>\n",
              "      <td>...</td>\n",
              "    </tr>\n",
              "    <tr>\n",
              "      <th>845</th>\n",
              "      <td>1.785714</td>\n",
              "      <td>1.265594</td>\n",
              "      <td>1.196429</td>\n",
              "      <td>0.0</td>\n",
              "      <td>1.0</td>\n",
              "      <td>0.0</td>\n",
              "      <td>0.0</td>\n",
              "      <td>0.0</td>\n",
              "      <td>0.0</td>\n",
              "      <td>0.0</td>\n",
              "      <td>...</td>\n",
              "      <td>0.0</td>\n",
              "      <td>1.0</td>\n",
              "      <td>0.0</td>\n",
              "      <td>1.0</td>\n",
              "      <td>3.0</td>\n",
              "      <td>2.0</td>\n",
              "      <td>3.0</td>\n",
              "      <td>3.0</td>\n",
              "      <td>1.0</td>\n",
              "      <td>4.0</td>\n",
              "    </tr>\n",
              "    <tr>\n",
              "      <th>846</th>\n",
              "      <td>1.410714</td>\n",
              "      <td>1.119352</td>\n",
              "      <td>1.428571</td>\n",
              "      <td>1.0</td>\n",
              "      <td>0.0</td>\n",
              "      <td>0.0</td>\n",
              "      <td>0.0</td>\n",
              "      <td>0.0</td>\n",
              "      <td>0.0</td>\n",
              "      <td>0.0</td>\n",
              "      <td>...</td>\n",
              "      <td>0.0</td>\n",
              "      <td>1.0</td>\n",
              "      <td>0.0</td>\n",
              "      <td>1.0</td>\n",
              "      <td>5.0</td>\n",
              "      <td>4.0</td>\n",
              "      <td>4.0</td>\n",
              "      <td>3.0</td>\n",
              "      <td>4.0</td>\n",
              "      <td>4.0</td>\n",
              "    </tr>\n",
              "    <tr>\n",
              "      <th>847</th>\n",
              "      <td>1.035714</td>\n",
              "      <td>1.023859</td>\n",
              "      <td>1.142857</td>\n",
              "      <td>0.0</td>\n",
              "      <td>0.0</td>\n",
              "      <td>1.0</td>\n",
              "      <td>0.0</td>\n",
              "      <td>0.0</td>\n",
              "      <td>0.0</td>\n",
              "      <td>1.0</td>\n",
              "      <td>...</td>\n",
              "      <td>1.0</td>\n",
              "      <td>0.0</td>\n",
              "      <td>1.0</td>\n",
              "      <td>0.0</td>\n",
              "      <td>2.0</td>\n",
              "      <td>2.0</td>\n",
              "      <td>2.0</td>\n",
              "      <td>1.0</td>\n",
              "      <td>1.0</td>\n",
              "      <td>1.0</td>\n",
              "    </tr>\n",
              "    <tr>\n",
              "      <th>848</th>\n",
              "      <td>1.357143</td>\n",
              "      <td>1.059456</td>\n",
              "      <td>1.107143</td>\n",
              "      <td>0.0</td>\n",
              "      <td>1.0</td>\n",
              "      <td>0.0</td>\n",
              "      <td>0.0</td>\n",
              "      <td>0.0</td>\n",
              "      <td>0.0</td>\n",
              "      <td>1.0</td>\n",
              "      <td>...</td>\n",
              "      <td>0.0</td>\n",
              "      <td>1.0</td>\n",
              "      <td>0.0</td>\n",
              "      <td>1.0</td>\n",
              "      <td>2.0</td>\n",
              "      <td>3.0</td>\n",
              "      <td>4.0</td>\n",
              "      <td>3.0</td>\n",
              "      <td>1.0</td>\n",
              "      <td>2.0</td>\n",
              "    </tr>\n",
              "    <tr>\n",
              "      <th>849</th>\n",
              "      <td>1.250000</td>\n",
              "      <td>1.065958</td>\n",
              "      <td>1.357143</td>\n",
              "      <td>0.0</td>\n",
              "      <td>0.0</td>\n",
              "      <td>0.0</td>\n",
              "      <td>1.0</td>\n",
              "      <td>0.0</td>\n",
              "      <td>0.0</td>\n",
              "      <td>1.0</td>\n",
              "      <td>...</td>\n",
              "      <td>0.0</td>\n",
              "      <td>1.0</td>\n",
              "      <td>0.0</td>\n",
              "      <td>1.0</td>\n",
              "      <td>2.0</td>\n",
              "      <td>3.0</td>\n",
              "      <td>4.0</td>\n",
              "      <td>1.0</td>\n",
              "      <td>1.0</td>\n",
              "      <td>3.0</td>\n",
              "    </tr>\n",
              "  </tbody>\n",
              "</table>\n",
              "<p>850 rows × 54 columns</p>\n",
              "</div>\n",
              "      <button class=\"colab-df-convert\" onclick=\"convertToInteractive('df-b0001705-1514-4915-a27e-c411edbaae0e')\"\n",
              "              title=\"Convert this dataframe to an interactive table.\"\n",
              "              style=\"display:none;\">\n",
              "        \n",
              "  <svg xmlns=\"http://www.w3.org/2000/svg\" height=\"24px\"viewBox=\"0 0 24 24\"\n",
              "       width=\"24px\">\n",
              "    <path d=\"M0 0h24v24H0V0z\" fill=\"none\"/>\n",
              "    <path d=\"M18.56 5.44l.94 2.06.94-2.06 2.06-.94-2.06-.94-.94-2.06-.94 2.06-2.06.94zm-11 1L8.5 8.5l.94-2.06 2.06-.94-2.06-.94L8.5 2.5l-.94 2.06-2.06.94zm10 10l.94 2.06.94-2.06 2.06-.94-2.06-.94-.94-2.06-.94 2.06-2.06.94z\"/><path d=\"M17.41 7.96l-1.37-1.37c-.4-.4-.92-.59-1.43-.59-.52 0-1.04.2-1.43.59L10.3 9.45l-7.72 7.72c-.78.78-.78 2.05 0 2.83L4 21.41c.39.39.9.59 1.41.59.51 0 1.02-.2 1.41-.59l7.78-7.78 2.81-2.81c.8-.78.8-2.07 0-2.86zM5.41 20L4 18.59l7.72-7.72 1.47 1.35L5.41 20z\"/>\n",
              "  </svg>\n",
              "      </button>\n",
              "      \n",
              "  <style>\n",
              "    .colab-df-container {\n",
              "      display:flex;\n",
              "      flex-wrap:wrap;\n",
              "      gap: 12px;\n",
              "    }\n",
              "\n",
              "    .colab-df-convert {\n",
              "      background-color: #E8F0FE;\n",
              "      border: none;\n",
              "      border-radius: 50%;\n",
              "      cursor: pointer;\n",
              "      display: none;\n",
              "      fill: #1967D2;\n",
              "      height: 32px;\n",
              "      padding: 0 0 0 0;\n",
              "      width: 32px;\n",
              "    }\n",
              "\n",
              "    .colab-df-convert:hover {\n",
              "      background-color: #E2EBFA;\n",
              "      box-shadow: 0px 1px 2px rgba(60, 64, 67, 0.3), 0px 1px 3px 1px rgba(60, 64, 67, 0.15);\n",
              "      fill: #174EA6;\n",
              "    }\n",
              "\n",
              "    [theme=dark] .colab-df-convert {\n",
              "      background-color: #3B4455;\n",
              "      fill: #D2E3FC;\n",
              "    }\n",
              "\n",
              "    [theme=dark] .colab-df-convert:hover {\n",
              "      background-color: #434B5C;\n",
              "      box-shadow: 0px 1px 3px 1px rgba(0, 0, 0, 0.15);\n",
              "      filter: drop-shadow(0px 1px 2px rgba(0, 0, 0, 0.3));\n",
              "      fill: #FFFFFF;\n",
              "    }\n",
              "  </style>\n",
              "\n",
              "      <script>\n",
              "        const buttonEl =\n",
              "          document.querySelector('#df-b0001705-1514-4915-a27e-c411edbaae0e button.colab-df-convert');\n",
              "        buttonEl.style.display =\n",
              "          google.colab.kernel.accessAllowed ? 'block' : 'none';\n",
              "\n",
              "        async function convertToInteractive(key) {\n",
              "          const element = document.querySelector('#df-b0001705-1514-4915-a27e-c411edbaae0e');\n",
              "          const dataTable =\n",
              "            await google.colab.kernel.invokeFunction('convertToInteractive',\n",
              "                                                     [key], {});\n",
              "          if (!dataTable) return;\n",
              "\n",
              "          const docLinkHtml = 'Like what you see? Visit the ' +\n",
              "            '<a target=\"_blank\" href=https://colab.research.google.com/notebooks/data_table.ipynb>data table notebook</a>'\n",
              "            + ' to learn more about interactive tables.';\n",
              "          element.innerHTML = '';\n",
              "          dataTable['output_type'] = 'display_data';\n",
              "          await google.colab.output.renderOutput(dataTable, element);\n",
              "          const docLink = document.createElement('div');\n",
              "          docLink.innerHTML = docLinkHtml;\n",
              "          element.appendChild(docLink);\n",
              "        }\n",
              "      </script>\n",
              "    </div>\n",
              "  </div>\n",
              "  "
            ]
          },
          "metadata": {},
          "execution_count": 10
        }
      ]
    },
    {
      "cell_type": "code",
      "source": [
        "preprocessor = ColumnTransformer(\n",
        "    transformers=[\n",
        "        (\"num\", numeric_transformer, numerical_columns),\n",
        "        (\"cat\", categorical_transformer, categorical_columns),\n",
        "    ]\n",
        ")"
      ],
      "metadata": {
        "id": "BKI80-YdC4HN"
      },
      "execution_count": 11,
      "outputs": []
    },
    {
      "cell_type": "markdown",
      "source": [
        "#**Ejercicio-4.**\n",
        "\n",
        "Llevarás un entrenamiento usando validación cruzada entre los siguientes tres modelos de\n",
        "aprendizaje automático: Regresión Logística, Árbol de Decisión y Bosque Aleatorio. Deberás\n",
        "llevar a cabo el entrenamiento de los tres de manera conjunta usando un ciclo FOR. Recuerda\n",
        "aplicar las transformaciones que definiste en tu Pipeline. El entrenamiento debe ser con las\n",
        "siguientes características:\n"
      ],
      "metadata": {
        "id": "chqk9jIDC5Pq"
      }
    },
    {
      "cell_type": "markdown",
      "source": [
        "###a. \n",
        "Usa los parámetros predeterminados de cada modelo.\n"
      ],
      "metadata": {
        "id": "0Yy78EIxrV1r"
      }
    },
    {
      "cell_type": "markdown",
      "source": [
        "\n",
        "###b. \n",
        "En cada iteración deben calcularse todas las siguientes métricas: accuracy, precision, recall, f1-score y Gmean. Todas estas métricas deben ser funciones que tú mismo debes definir (Es decir, no usar las funciones de dichas métricas que te proporciona scikit-learn. Sin embargo, sí puedes usar la información regresada por el método confusion_matrix() de scikit-learn para definir las métricas).\n",
        "\n",
        " "
      ],
      "metadata": {
        "id": "_w46InpnrVzE"
      }
    },
    {
      "cell_type": "code",
      "source": [
        "def mi_gmean(yreal, ypred):\n",
        "     cm = (confusion_matrix(yreal, ypred))     \n",
        "     gmean = np.sqrt(((cm[1,1])/(cm[1,1]+cm[1,0]))*((cm[0,0])/(cm[0,0]+cm[0,1])))\n",
        "     return gmean\n",
        "def mi_accuracy(yreal, ypred):\n",
        "     cm = (confusion_matrix(yreal, ypred))     \n",
        "     accuracy = (cm[0,0]+cm[1,1])/cm.sum()\n",
        "     return accuracy\n",
        "def mi_precision(yreal, ypred):\n",
        "     cm = (confusion_matrix(yreal, ypred))     \n",
        "     precision = (cm[1,1])/cm[:,1].sum()\n",
        "     return precision\n",
        "def mi_recall(yreal, ypred):\n",
        "     cm = (confusion_matrix(yreal, ypred))     \n",
        "     recall = (cm[1,1])/cm[1:].sum()\n",
        "     return recall\n",
        "def mi_f1_score (yreal,ypred):\n",
        "  recall=mi_recall(yreal,ypred)\n",
        "  precision=mi_precision(yreal,ypred)\n",
        "  return 2*(recall * precision) / (recall + precision)\n",
        "def mi_cm(yreal, ypred):\n",
        "\n",
        "  cm = confusion_matrix(yreal, ypred)\n",
        "  group_names = ['Verdaderos Negativos\\nVN','Falsos Positivos\\nFP','Falsos Negativos\\nFN','Verdaderos Positivos\\nVP']\n",
        "  group_counts = [\"{0:0.0f}\".format(value) for value in\n",
        "                cm.flatten()]\n",
        "  group_percentages = [\"{0:.2%}\".format(value) for value in\n",
        "                     cm.flatten()/np.sum(cm)]\n",
        "  labels = [f\"{v1}\\n{v2}\\n{v3}\" for v1, v2, v3 in\n",
        "          zip(group_names,group_counts,group_percentages)]\n",
        "  labels = np.asarray(labels).reshape(2,2)\n",
        "  sns.heatmap(cm, annot=labels, fmt='',cmap='Spectral')\n",
        "\n",
        "def mi_LearningCurvePlot(train_sizes, train_scores, val_scores,scorer):\n",
        "    train_mean = np.mean(train_scores, axis=1)\n",
        "    train_std = np.std(train_scores, axis=1)\n",
        "    val_mean = np.mean(val_scores, axis=1)\n",
        "    val_std = np.std(val_scores, axis=1)\n",
        "    plt.figure(figsize=(7,6))\n",
        "    plt.plot(train_sizes, train_mean, color='blue', marker='o', markersize=5, label='Training')\n",
        "    plt.fill_between(train_sizes, train_mean + train_std, train_mean - train_std, alpha=0.1, color='blue')\n",
        "    \n",
        "    plt.plot(train_sizes, val_mean, color='red', marker='+', markersize=5, linestyle='--', label='Validation')\n",
        "    plt.fill_between(train_sizes, val_mean + val_std, val_mean - val_std, alpha=0.1, color='red')\n",
        "    \n",
        "    plt.title('Curvas de Aprendizaje incrementando el tamaño de la muestra')\n",
        "    plt.xlabel('Tamaño del conjunto de entrenamiento')\n",
        "    plt.ylabel(scorer)\n",
        "    plt.grid()\n",
        "    plt.legend(loc='lower left')\n",
        "    plt.show()\n",
        "def mi_ValidationCurvePlot(train_sizes, train_scores, val_scores, scorer):\n",
        "    train_mean = np.mean(train_scores, axis=1)\n",
        "    train_std = np.std(train_scores, axis=1)\n",
        "    val_mean = np.mean(val_scores, axis=1)\n",
        "    val_std = np.std(val_scores, axis=1)\n",
        "    plt.figure(figsize=(7,6))\n",
        "    plt.plot(train_sizes, train_mean, color='blue', marker='o', markersize=5, label='Training')\n",
        "    plt.fill_between(train_sizes, train_mean + train_std, train_mean - train_std, alpha=0.1, color='blue')\n",
        "    \n",
        "    plt.plot(train_sizes, val_mean, color='red', marker='+', markersize=5, linestyle='--', label='Validation')\n",
        "    plt.fill_between(train_sizes, val_mean + val_std, val_mean - val_std, alpha=0.1, color='red')\n",
        "    \n",
        "    plt.title('Curvas de Validación incrementando el tamaño de la muestra')\n",
        "    plt.xlabel('Tamaño del conjunto de entrenamiento')\n",
        "    plt.ylabel(scorer)\n",
        "    plt.grid()\n",
        "    plt.legend(loc='lower left')\n",
        "    plt.show()"
      ],
      "metadata": {
        "id": "RBVSFwK4C6g9"
      },
      "execution_count": 12,
      "outputs": []
    },
    {
      "cell_type": "markdown",
      "source": [
        "###c. \n",
        "Usar validación cruzada estratificada con 5 particiones y con 3 repeticiones.\n"
      ],
      "metadata": {
        "id": "oFiVYJ1_rVw3"
      }
    },
    {
      "cell_type": "markdown",
      "source": [
        "\n",
        "### d. \n",
        "Imprimir el valor de todas estas métricas, tanto para los datos de entrenamiento, como para los de validación. Así como los diagramas de caja y bigotes de los tres modelos con la métrica “recall”. ¿Alguno de los modelos está subentrenado o sobreentrenado? Justifica tu respuesta.\n",
        "\n"
      ],
      "metadata": {
        "id": "dz4lQcXyrVsx"
      }
    },
    {
      "cell_type": "code",
      "source": [
        "def get_models_underoversampling():\n",
        "  modelos, nombres = list(), list()\n",
        "\n",
        "  # técnica y nombre: RandOver\n",
        "  modelos.append(RandomOverSampler())\n",
        "  nombres.append('Random-Oversampling')\n",
        "  # técnica y nombre: TomekLinks\n",
        "  modelos.append(TomekLinks())\n",
        "  nombres.append('Tomek-links')\n",
        "  # técnica y nombre: SMOTE\n",
        "  modelos.append(SMOTE())\n",
        "  nombres.append('SMOTE')\n",
        "  # técnica y nombre: SMOTEENN\n",
        "  modelos.append(SMOTEENN())\n",
        "  nombres.append('SMOTEEN')\n",
        "\n",
        "  return modelos, nombres\n",
        "\n",
        "\n",
        "\n",
        "model = [RandomForestClassifier(),\n",
        "          LogisticRegression(), tree.DecisionTreeClassifier()]\n",
        "pipes = []\n",
        "modelosOU,nombresOU = get_models_underoversampling()\n",
        "Results = [] \n",
        "nombres = [\"Random Forest\", \"Regresión Logística\",\"Arbol de Decisión\"]\n",
        "for i in range(len(model)):         \n",
        "  rf = Pipeline(\n",
        "    [\n",
        "        (\"preprocess\", preprocessor),\n",
        "        (\"classifier\", model[i]),\n",
        "    ]\n",
        "  )\n",
        "  pipes.append(rf)\n",
        "  print(nombres[i])\n",
        "  rf.fit(X_train, y_train)\n",
        "  print(f\"RF train accuracy: {rf.score(X_train, y_train):.3f}\")\n",
        "  print(f\"RF test accuracy: {rf.score(X_test, y_test):.3f}\")\n",
        "  yhat  = rf.predict(X_test)\n",
        " # mi_cm(y_test,yhat)\n",
        "  mismetricas = {'accuracy':make_scorer(mi_accuracy),'precision':make_scorer(mi_precision)\n",
        "  ,'recall':make_scorer(mi_recall),'f1_score':make_scorer(mi_f1_score),'gmean':make_scorer(mi_gmean)}\n",
        "  \n",
        "  kfold = RepeatedStratifiedKFold(n_splits=5, n_repeats=3) \n",
        "  resultados = cross_validate(rf,X,y, scoring=mismetricas,cv=kfold)\n",
        "  Results.append(resultados)\n",
        "  print('%s:\\nmean Accuracy: %.3f (%.4f)\\nmean Precision: %.3f (%.4f)\\nmean Recall: %.3f (%.4f)\\nf-1 Score: %.3f (%.4f)\\nGmean: %.3f (%.4f)\\n' % (nombres[i],\n",
        "                                                                          np.mean(resultados['test_accuracy']),\n",
        "                                                                          np.std(resultados['test_accuracy']),\n",
        "                                                                          np.mean(resultados['test_precision']),\n",
        "                                                                          np.std(resultados['test_precision']), \n",
        "                                                                          np.mean(resultados['test_recall']),\n",
        "                                                                          np.std(resultados['test_recall']),\n",
        "                                                                          np.mean(resultados['test_f1_score']),\n",
        "                                                                          np.std(resultados['test_f1_score']),\n",
        "                                                                          np.mean(resultados['test_gmean']),\n",
        "                                                                          np.std(resultados['test_gmean']),  \n",
        "                                                                          ))\n",
        "  for j in range(len(modelosOU)):\n",
        "    \n",
        "    pipe = make_pipeline((modelosOU[j]), (rf))\n",
        "    \n",
        "    kfold = RepeatedStratifiedKFold(n_splits=5, n_repeats=3) \n",
        "    resultadosOU = cross_validate(pipe,X,y, scoring=mismetricas,cv=kfold)\n",
        "   # print(resultadosOU)\n",
        "    print('%s:\\nmean Accuracy: %.3f (%.4f)\\nmean Precision: %.3f (%.4f)\\nmean Recall: %.3f (%.4f)\\nf-1 Score: %.3f (%.4f)\\nGmean: %.3f (%.4f)\\n' % (nombres[i]+' '+nombresOU[j],\n",
        "                                                                          np.mean(resultadosOU['test_accuracy']),\n",
        "                                                                          np.std(resultadosOU['test_accuracy']),\n",
        "                                                                          np.mean(resultadosOU['test_precision']),\n",
        "                                                                          np.std(resultadosOU['test_precision']), \n",
        "                                                                          np.mean(resultadosOU['test_recall']),\n",
        "                                                                          np.std(resultadosOU['test_recall']),\n",
        "                                                                          np.mean(resultadosOU['test_f1_score']),\n",
        "                                                                          np.std(resultadosOU['test_f1_score']),\n",
        "                                                                          np.mean(resultadosOU['test_gmean']),\n",
        "                                                                          np.std(resultadosOU['test_gmean']),  \n",
        "                                                                          ))\n",
        "\n",
        "  \n",
        "sns.set(rc={'figure.figsize':(8,4)})\n",
        "\n",
        "data=pd.DataFrame(columns=nombres)\n",
        "for i in range(len(Results)):\n",
        "  data[nombres[i]]=Results[i]['test_recall']\n",
        "sns.boxplot(data=data)\n",
        "\n"
      ],
      "metadata": {
        "id": "7KXnlNzAC69Y",
        "colab": {
          "base_uri": "https://localhost:8080/",
          "height": 2264
        },
        "outputId": "def834bd-e0df-42b9-f022-bba6eae16896"
      },
      "execution_count": 13,
      "outputs": [
        {
          "output_type": "stream",
          "name": "stdout",
          "text": [
            "Random Forest\n",
            "RF train accuracy: 1.000\n",
            "RF test accuracy: 0.740\n",
            "Random Forest:\n",
            "mean Accuracy: 0.752 (0.0227)\n",
            "mean Precision: 0.787 (0.0176)\n",
            "mean Recall: 0.885 (0.0243)\n",
            "f-1 Score: 0.833 (0.0156)\n",
            "Gmean: 0.623 (0.0410)\n",
            "\n",
            "Random Forest Random-Oversampling:\n",
            "mean Accuracy: 0.736 (0.0210)\n",
            "mean Precision: 0.803 (0.0191)\n",
            "mean Recall: 0.825 (0.0315)\n",
            "f-1 Score: 0.814 (0.0163)\n",
            "Gmean: 0.658 (0.0354)\n",
            "\n",
            "Random Forest Tomek-links:\n",
            "mean Accuracy: 0.743 (0.0236)\n",
            "mean Precision: 0.802 (0.0200)\n",
            "mean Recall: 0.841 (0.0261)\n",
            "f-1 Score: 0.821 (0.0167)\n",
            "Gmean: 0.657 (0.0381)\n",
            "\n",
            "Random Forest SMOTE:\n",
            "mean Accuracy: 0.734 (0.0250)\n",
            "mean Precision: 0.820 (0.0241)\n",
            "mean Recall: 0.796 (0.0311)\n",
            "f-1 Score: 0.807 (0.0190)\n",
            "Gmean: 0.684 (0.0385)\n",
            "\n",
            "Random Forest SMOTEEN:\n",
            "mean Accuracy: 0.704 (0.0311)\n",
            "mean Precision: 0.840 (0.0181)\n",
            "mean Recall: 0.713 (0.0512)\n",
            "f-1 Score: 0.770 (0.0316)\n",
            "Gmean: 0.696 (0.0250)\n",
            "\n",
            "Regresión Logística\n",
            "RF train accuracy: 0.774\n",
            "RF test accuracy: 0.793\n",
            "Regresión Logística:\n",
            "mean Accuracy: 0.751 (0.0243)\n",
            "mean Precision: 0.793 (0.0182)\n",
            "mean Recall: 0.871 (0.0223)\n",
            "f-1 Score: 0.830 (0.0166)\n",
            "Gmean: 0.639 (0.0404)\n",
            "\n",
            "Regresión Logística Random-Oversampling:\n",
            "mean Accuracy: 0.711 (0.0307)\n",
            "mean Precision: 0.848 (0.0243)\n",
            "mean Recall: 0.715 (0.0421)\n",
            "f-1 Score: 0.775 (0.0278)\n",
            "Gmean: 0.706 (0.0321)\n",
            "\n",
            "Regresión Logística Tomek-links:\n",
            "mean Accuracy: 0.750 (0.0274)\n",
            "mean Precision: 0.810 (0.0191)\n",
            "mean Recall: 0.840 (0.0327)\n",
            "f-1 Score: 0.825 (0.0207)\n",
            "Gmean: 0.672 (0.0360)\n",
            "\n",
            "Regresión Logística SMOTE:\n",
            "mean Accuracy: 0.725 (0.0349)\n",
            "mean Precision: 0.827 (0.0210)\n",
            "mean Recall: 0.769 (0.0484)\n",
            "f-1 Score: 0.796 (0.0306)\n",
            "Gmean: 0.691 (0.0352)\n",
            "\n",
            "Regresión Logística SMOTEEN:\n",
            "mean Accuracy: 0.712 (0.0201)\n",
            "mean Precision: 0.847 (0.0234)\n",
            "mean Recall: 0.719 (0.0307)\n",
            "f-1 Score: 0.777 (0.0178)\n",
            "Gmean: 0.706 (0.0265)\n",
            "\n",
            "Arbol de Decisión\n",
            "RF train accuracy: 1.000\n",
            "RF test accuracy: 0.693\n",
            "Arbol de Decisión:\n",
            "mean Accuracy: 0.684 (0.0373)\n",
            "mean Precision: 0.780 (0.0271)\n",
            "mean Recall: 0.765 (0.0365)\n",
            "f-1 Score: 0.772 (0.0285)\n",
            "Gmean: 0.614 (0.0488)\n",
            "\n",
            "Arbol de Decisión Random-Oversampling:\n",
            "mean Accuracy: 0.673 (0.0224)\n",
            "mean Precision: 0.770 (0.0223)\n",
            "mean Recall: 0.762 (0.0342)\n",
            "f-1 Score: 0.765 (0.0183)\n",
            "Gmean: 0.593 (0.0432)\n",
            "\n",
            "Arbol de Decisión Tomek-links:\n",
            "mean Accuracy: 0.677 (0.0272)\n",
            "mean Precision: 0.790 (0.0218)\n",
            "mean Recall: 0.733 (0.0362)\n",
            "f-1 Score: 0.760 (0.0234)\n",
            "Gmean: 0.631 (0.0343)\n",
            "\n",
            "Arbol de Decisión SMOTE:\n",
            "mean Accuracy: 0.671 (0.0275)\n",
            "mean Precision: 0.786 (0.0188)\n",
            "mean Recall: 0.730 (0.0420)\n",
            "f-1 Score: 0.756 (0.0252)\n",
            "Gmean: 0.624 (0.0306)\n",
            "\n",
            "Arbol de Decisión SMOTEEN:\n",
            "mean Accuracy: 0.654 (0.0350)\n",
            "mean Precision: 0.786 (0.0172)\n",
            "mean Recall: 0.696 (0.0624)\n",
            "f-1 Score: 0.737 (0.0370)\n",
            "Gmean: 0.620 (0.0290)\n",
            "\n"
          ]
        },
        {
          "output_type": "execute_result",
          "data": {
            "text/plain": [
              "<matplotlib.axes._subplots.AxesSubplot at 0x7f15ab518590>"
            ]
          },
          "metadata": {},
          "execution_count": 13
        },
        {
          "output_type": "display_data",
          "data": {
            "text/plain": [
              "<Figure size 576x288 with 1 Axes>"
            ],
            "image/png": "[encoded data removed]"
          },
          "metadata": {}
        }
      ]
    },
    {
      "cell_type": "markdown",
      "source": [
        "Conclusión:\n",
        "\n",
        "En los tres modelos se implementaron no se observa ni sobre entrenamiento ni sub entrenamiento al observar las curvas de aprendizaje. Se aplicó también modelos de oversampling, tomelinks y someten y en ninguno de los casos se observaron resultados más favorables"
      ],
      "metadata": {
        "id": "vudPXYDaLX3T"
      }
    },
    {
      "cell_type": "markdown",
      "source": [
        "### e. \n",
        "En particular obtengamos algunas de las llamadas curvas de aprendizaje para algunos de estos casos. En dada gráfico debes incluir tus comentarios sobre el modelo generado:\n"
      ],
      "metadata": {
        "id": "96PKPtTfrVqy"
      }
    },
    {
      "cell_type": "markdown",
      "source": [
        "\n",
        "####i. \n",
        "Obtener las curvas de aprendizaje (learning_curve) en la cual se va incrementando\n",
        "el tamaño de la muestra para el modelo de regresión Logística con su\n",
        "hiperparámetros predeterminados. Utilizar al menos 20 puntos en la partición de\n",
        "los conjuntos de entrenamiento y la métrica “f1-score”, como evaluación del\n",
        "desempeño de dicha función “learning_curve()”.\n"
      ],
      "metadata": {
        "id": "gZ06lCPqrVoT"
      }
    },
    {
      "cell_type": "code",
      "source": [
        "delta_train_sz = np.linspace(0.1, 1.0, num=20)\n",
        "tr_sizes, tr_scores, val_scores = learning_curve(estimator = pipes[1] ,    \n",
        "                                                        X = X_train,\n",
        "                                                        y = y_train,\n",
        "                                                        cv = kfold ,\n",
        "                                                        train_sizes = delta_train_sz ,\n",
        "                                                        scoring=make_scorer(mi_f1_score),\n",
        "                                                        random_state=11)\n",
        "mi_LearningCurvePlot(tr_sizes, tr_scores, val_scores,'F1 Score')\n"
      ],
      "metadata": {
        "colab": {
          "base_uri": "https://localhost:8080/",
          "height": 410
        },
        "id": "3BujhpZIDmit",
        "outputId": "f88464d6-df48-47f0-f584-37f56e97a513"
      },
      "execution_count": 14,
      "outputs": [
        {
          "output_type": "display_data",
          "data": {
            "text/plain": [
              "<Figure size 504x432 with 1 Axes>"
            ],
            "image/png": "[encoded data removed]"
          },
          "metadata": {}
        }
      ]
    },
    {
      "cell_type": "markdown",
      "source": [
        "\n",
        "####ii. \n",
        "Obtener las curvas de validación (validation_curve) en la cual se va incrementando\n",
        "la complejidad del hiperparámetro “max_depth” para el modelo de árbol de\n",
        "decisión con sus hiperparámetros predeterminados. Utilizar valores de máxima"
      ],
      "metadata": {
        "id": "1LZk0-uHrVlz"
      }
    },
    {
      "cell_type": "code",
      "source": [
        "#pipes[2].get_params().keys()\n",
        "train_scores, valid_scores = validation_curve( estimator = pipes[2],\n",
        "   X=X_train, y=y_train, param_name=\"classifier__max_depth\", param_range=delta_train_sz,\n",
        "   scoring=make_scorer(mi_f1_score),\n",
        "  cv=kfold)\n",
        "mi_ValidationCurvePlot(delta_train_sz, train_scores, valid_scores,'F1 Score')"
      ],
      "metadata": {
        "colab": {
          "base_uri": "https://localhost:8080/",
          "height": 410
        },
        "id": "K0DLiE8kFHOX",
        "outputId": "6c26810f-6846-40cb-85d5-a517d18bd3df"
      },
      "execution_count": 15,
      "outputs": [
        {
          "output_type": "display_data",
          "data": {
            "text/plain": [
              "<Figure size 504x432 with 1 Axes>"
            ],
            "image/png": "[encoded data removed]"
          },
          "metadata": {}
        }
      ]
    },
    {
      "cell_type": "markdown",
      "source": [
        "####iii. \n",
        " Obtener las curvas de aprendizaje (learning_curve) en la cual se va incrementando \n",
        "el tamaño de la muestra para el modelo de regresión bosque aleatorio (random \n",
        "forest) con su hiperparámetros predeterminados. Utilizar al menos 20 puntos en \n",
        "la partición de los conjuntos de entrenamiento y la métrica “recall”, como \n",
        "evaluación del desempeño del modelo.  "
      ],
      "metadata": {
        "id": "BbMs8-xKvPrz"
      }
    },
    {
      "cell_type": "code",
      "source": [
        "\n",
        "delta_train_sz = np.linspace(0.1, 1.0, num=20)\n",
        "tr_sizes, tr_scores, val_scores = learning_curve(estimator = pipes[0] ,    \n",
        "                                                        X = X_train,\n",
        "                                                        y = y_train,\n",
        "                                                        cv = kfold ,\n",
        "                                                        train_sizes = delta_train_sz ,\n",
        "                                                        scoring=make_scorer(mi_recall),\n",
        "                                                        random_state=11)\n",
        "mi_LearningCurvePlot(tr_sizes, tr_scores, val_scores,'Recall Score')"
      ],
      "metadata": {
        "colab": {
          "base_uri": "https://localhost:8080/",
          "height": 410
        },
        "id": "TIk_2CaZGToV",
        "outputId": "c7a75a57-42a1-4266-db6d-59ee55607c00"
      },
      "execution_count": 16,
      "outputs": [
        {
          "output_type": "display_data",
          "data": {
            "text/plain": [
              "<Figure size 504x432 with 1 Axes>"
            ],
            "image/png": "[encoded data removed]"
          },
          "metadata": {}
        }
      ]
    },
    {
      "cell_type": "markdown",
      "source": [
        "#**Ejercicio-5.**"
      ],
      "metadata": {
        "id": "Rv7KFq-mC7PS"
      }
    },
    {
      "cell_type": "markdown",
      "source": [
        "Finalmente veamos la manera de mejorar los valores de los hiperparámetros de cada modelo, así \n",
        "como el problema del sobreentrenamiento de algunos de ellos. Para ello deberás usar el método \n",
        "GridSearchCV() de scikit-learn. Recuerda que este método hace una búsqueda de los mejores \n",
        "hiperparámetros de un modelo mediante el llamada formato de malla y aplicando validación \n",
        "cruzada. En cada caso puedes incrementar el máximo de iteraciones,”max_iter” para que tengas \n",
        "la convergencia adecuada para todas las combinaciones en cada modelo. Recuerda también \n",
        "aplicar las transformaciones que definiste en tu Pipeline. Para fines de este ejercicio se ha \n",
        "seleccionado para cada modelo una métrica diferente, que permita irte familiarizando con ellas. \n",
        "Puedes consultar su documentación de GridSearchCV en la siguiente liga: https://scikit-learn.org/stable/modules/generated/sklearn.model_selection.GridSearchCV.html  "
      ],
      "metadata": {
        "id": "BzWfWIg8r0-D"
      }
    },
    {
      "cell_type": "markdown",
      "source": [
        "###a.  \n",
        "Para el modelo de regresión logística realizar el entrenamiento buscando sus mejores  hiperparámetros con GridSearchCV(). Los hiperparámetros que debes incluir en su  búsqueda deben ser al menos los siguientes: C, solver, class_weight y penalty. En este caso  deberás usar la métrica (scoring) “f1-score”. Imprime la mejor combinación de  parámetros obtenidos, así como el valor del mejor desempeño (score) obtenido con la  métrica f1. ¿Cuál es la utilidad de la métrica “f1-score”? Incluye tus conclusiones. \n",
        "* NOTA: Toma en cuenta que no todas las combinaciones de “solver” y “penalty” son \n",
        "posibles, para que lo tomes en cuenta al momento de realizar la búsqueda. Revisa la \n",
        "documentación. "
      ],
      "metadata": {
        "id": "ifoEORXkr7NM"
      }
    },
    {
      "cell_type": "code",
      "source": [
        "modelo_CV = LogisticRegression(max_iter=9000, random_state=1) \n",
        "mi_pipeCV = Pipeline(steps=[(\"PreparaInfo\", Col_Trans),(\"model\", modelo_CV)]) #model es solo un tag\n",
        "mi_kfoldCV = RepeatedStratifiedKFold(n_splits=5, n_repeats=3, random_state=7)  \n",
        "\n",
        "#Probar con valores\n",
        "parametroC= [0.01, 0.1, 1, 10, 100, 1000]\n",
        "\n",
        "#Generar9 lista de parametros a utilizar con la funcion GridSearch\n",
        "\n",
        "ParametrosGR = [{'model__penalty': ['l1'], 'model__solver': [ 'saga'], 'model__class_weight':['balanced', None], 'model__C': parametroC},\n",
        "                  {'model__penalty': ['l2'], 'model__solver': ['newton-cg', 'lbfgs', 'liblinear', 'sag', 'saga'], 'model__class_weight':['balanced', None], 'model__C': parametroC},\n",
        "                  {'model__penalty': ['elasticnet'], 'model__solver': ['saga'], 'model__class_weight':['balanced', None], 'model__C': parametroC, 'model__l1_ratio': [0.5]},\n",
        "                 ]\n",
        "#Ahora definimos el modelo con el cual despues alimentaremos el pipeline par GridSearch\n",
        "\n",
        "gridFinal=  GridSearchCV (estimator =  mi_pipeCV, \n",
        "                            param_grid = ParametrosGR,\n",
        "                            scoring = 'f1', #Piden utilizar f1 score, por eso lo ponemos como scoring\n",
        "                            cv = mi_kfoldCV)\n",
        "  \n",
        "gridFinal.fit(X_train, np.ravel(y_train))\n",
        "best_score = gridFinal.best_score_\n",
        "best_param = gridFinal.best_params_\n",
        "print(\"El mejor escor es:\", best_score)\n",
        "print(\"El mejor parametro es:\", best_param)\n"
      ],
      "metadata": {
        "id": "jaDj3kawC9B6",
        "colab": {
          "base_uri": "https://localhost:8080/",
          "height": 0
        },
        "outputId": "ca7a90bd-c20a-4975-8bc5-efef81f2d3a7"
      },
      "execution_count": 17,
      "outputs": [
        {
          "output_type": "stream",
          "name": "stdout",
          "text": [
            "El mejor escor es: 0.8323862596989485\n",
            "El mejor parametro es: {'model__C': 1, 'model__class_weight': None, 'model__l1_ratio': 0.5, 'model__penalty': 'elasticnet', 'model__solver': 'saga'}\n"
          ]
        }
      ]
    },
    {
      "cell_type": "markdown",
      "source": [
        "Conclusión: \n",
        "\n",
        "La metica f1- Score nos sirve para poder combinar las medidas de precision y recall en un solo valor"
      ],
      "metadata": {
        "id": "adh0J4-I-FqB"
      }
    },
    {
      "cell_type": "markdown",
      "source": [
        "###b.  \n",
        "Con los mejores valores de los hiperparámetros encontrados con la métrica “f1-score” \n",
        "para el modelo de regresión logística, obtener las curvas de aprendizaje (learning curve), \n",
        "incrementando el tamaño del conjunto de entrenamiento al menos 20 veces. Si lo crees \n",
        "adecuado, puedes hacer los ajustes que consideres adecuados para mejorar el resultado y \n",
        "evitar el sobreentrenamiento o el subentrenamiento. "
      ],
      "metadata": {
        "id": "MnlDVknmr7K7"
      }
    },
    {
      "cell_type": "code",
      "source": [
        "#Definir la funcion para la grafica de la curva de aprendizaje\n",
        "\n",
        "def graf_CV (X_entrada, parametro_C, penalizacion, resolutor):\n",
        "  modelo_CV = LogisticRegression(C=parametro_C, solver=resolutor, penalty=penalizacion, max_iter=8000, random_state=1)\n",
        "  pipe_CV = Pipeline(steps=[(\"PreparaInfo\", Col_Trans),(\"RegresionLogistica\", modelo_CV)])\n",
        "  kfold_CV = RepeatedStratifiedKFold(n_splits=5, n_repeats=3, random_state=7)\n",
        "  train_size_CV = np.linspace(0.1, 1.0, 20) #Incrementar el conjunto de entrenamiento al menos 20 veces\n",
        "  tr_sizes, tr_scores, val_scores = learning_curve(estimator = pipe_CV ,    \n",
        "                                                        X = X_entrada,\n",
        "                                                        y = y_train,\n",
        "                                                        cv = kfold_CV ,\n",
        "                                                        train_sizes = train_size_CV ,\n",
        "                                                        random_state=10,\n",
        "                                                        scoring=make_scorer(mi_f1_score))\n",
        "\n",
        "  mi_LearningCurvePlot(tr_sizes, tr_scores, val_scores, 'F1 Score')\n",
        "\n",
        "graf_CV(X_train, 0.1,'l2','sag')"
      ],
      "metadata": {
        "id": "4tQxQROVC9Us",
        "colab": {
          "base_uri": "https://localhost:8080/",
          "height": 410
        },
        "outputId": "cbc7d290-95be-4031-e614-ee2a6f01b68c"
      },
      "execution_count": 18,
      "outputs": [
        {
          "output_type": "display_data",
          "data": {
            "text/plain": [
              "<Figure size 504x432 with 1 Axes>"
            ],
            "image/png": "[encoded data removed]"
          },
          "metadata": {}
        }
      ]
    },
    {
      "cell_type": "markdown",
      "source": [
        "###c.  \n",
        "Para el modelo de árbol de decisión (decision tree) realizar el entrenamiento buscando \n",
        "sus mejores hiperparámetros con GridSearchCV(). Los hiperparámetros que debes incluir \n",
        "en su búsqueda deben ser al menos los siguientes: ccp_alpha, criterion, max_depth, \n",
        "min_samples_split y class_weight. En este caso deberás usar la métrica (scoring) \n",
        "“precision”. Imprime la mejor combinación de parámetros obtenidos, así como el valor \n",
        "del mejor desempeño (score) obtenido con la métrica “precision”. ¿Cuál es la utilidad de \n",
        "la métrica “precision”? Incluye tus conclusiones. "
      ],
      "metadata": {
        "id": "NmLfycFSr7IU"
      }
    },
    {
      "cell_type": "code",
      "source": [
        "#Usar casi todo lo del GridSearch, cambiar parametros\n",
        "\n",
        "modelo_CV = DecisionTreeClassifier() #Definir decision tree\n",
        "mi_pipeCV = Pipeline(steps=[(\"PreparaInfo\", Col_Trans),(\"model\", modelo_CV)]) #model es solo un tag\n",
        "mi_kfoldCV = RepeatedStratifiedKFold(n_splits=5, n_repeats=3, random_state=7)  \n",
        "\n",
        "ParametrosGR = {'model__ccp_alpha':[0.01, 0.001, .0001, .00001],  \n",
        "              'model__criterion': ['gini', 'entropy'], \n",
        "              'model__max_depth':[2, 4, 6, 8, 10, 12], \n",
        "              'model__min_samples_split':[2, 4, 6,8,10], \n",
        "              'model__class_weight': ['balanced', None]}\n",
        "\n",
        "ArbolFinal=  GridSearchCV (estimator =  mi_pipeCV, \n",
        "                            param_grid = ParametrosGR,\n",
        "                            scoring = make_scorer(mi_precision),\n",
        "                            cv = mi_kfoldCV)\n",
        "ArbolFinal.fit(X_train, np.ravel(y_train))"
      ],
      "metadata": {
        "colab": {
          "base_uri": "https://localhost:8080/",
          "height": 0
        },
        "id": "UoAJKtgQGYrh",
        "outputId": "551b4512-ada3-4ecb-8eca-6ca81f53ec89"
      },
      "execution_count": 19,
      "outputs": [
        {
          "output_type": "execute_result",
          "data": {
            "text/plain": [
              "GridSearchCV(cv=RepeatedStratifiedKFold(n_repeats=3, n_splits=5, random_state=7),\n",
              "             estimator=Pipeline(steps=[('PreparaInfo',\n",
              "                                        ColumnTransformer(remainder='passthrough',\n",
              "                                                          transformers=[('numericas',\n",
              "                                                                         Pipeline(steps=[('impMean',\n",
              "                                                                                          SimpleImputer(strategy='median')),\n",
              "                                                                                         ('scalar',\n",
              "                                                                                          MinMaxScaler(feature_range=(1,\n",
              "                                                                                                                      2)))]),\n",
              "                                                                         ['duration',\n",
              "                                                                          'amount',\n",
              "                                                                          'age']),\n",
              "                                                                        ('categoricas',\n",
              "                                                                         Pipeline(...\n",
              "                                                                                          OneHotEncoder(handle_unknown='ignore'))]),\n",
              "                                                                         ['people_liable',\n",
              "                                                                          'telephone',\n",
              "                                                                          'foreign_worker'])])),\n",
              "                                       ('model', DecisionTreeClassifier())]),\n",
              "             param_grid={'model__ccp_alpha': [0.01, 0.001, 0.0001, 1e-05],\n",
              "                         'model__class_weight': ['balanced', None],\n",
              "                         'model__criterion': ['gini', 'entropy'],\n",
              "                         'model__max_depth': [2, 4, 6, 8, 10, 12],\n",
              "                         'model__min_samples_split': [2, 4, 6, 8, 10]},\n",
              "             scoring=make_scorer(mi_precision))"
            ]
          },
          "metadata": {},
          "execution_count": 19
        }
      ]
    },
    {
      "cell_type": "code",
      "source": [
        "#Imprimir mejores\n",
        "best_score = ArbolFinal.best_score_\n",
        "best_param = ArbolFinal.best_params_\n",
        "print(\"El mejor escor es:\", best_score)\n",
        "print(\"El mejor parametro es:\", best_param)"
      ],
      "metadata": {
        "colab": {
          "base_uri": "https://localhost:8080/",
          "height": 0
        },
        "id": "5qQEKtF9GYpi",
        "outputId": "d17e18be-1759-461f-af60-dfbbac243a36"
      },
      "execution_count": 20,
      "outputs": [
        {
          "output_type": "stream",
          "name": "stdout",
          "text": [
            "El mejor escor es: 0.8523549188859322\n",
            "El mejor parametro es: {'model__ccp_alpha': 0.01, 'model__class_weight': 'balanced', 'model__criterion': 'entropy', 'model__max_depth': 2, 'model__min_samples_split': 2}\n"
          ]
        }
      ]
    },
    {
      "cell_type": "markdown",
      "source": [
        "Conclusión:\n",
        "\n",
        "Esta métrica  de precisión representa el número de verdaderos positivos que son realmente positivos en comparación con el número total de valores positivos predichos."
      ],
      "metadata": {
        "id": "2V4_kGCT-bM4"
      }
    },
    {
      "cell_type": "markdown",
      "source": [
        "###d.  \n",
        "Con los mejores valores de los hiperparámetros encontrados con la métrica “precision” \n",
        "para el modelo de árbol de decisión, obtener las curvas de aprendizaje (learning curve), \n",
        "incrementando el tamaño del conjunto de entrenamiento al menos 20 veces. Si lo crees \n",
        "adecuado, puedes hacer los ajustes que consideres adecuados para mejorar el resultado y \n",
        "evitar el sobreentrenamiento o el subentrenamiento. "
      ],
      "metadata": {
        "id": "l8-7Olaar7GS"
      }
    },
    {
      "cell_type": "code",
      "source": [
        "#Usar funcion de arbol y ajustar parametros\n",
        "def mi_curvaRF(X_entrada2): \n",
        "  modeloDT2 = DecisionTreeClassifier(ccp_alpha=ArbolFinal.best_params_.get('model__ccp_alpha'),\n",
        "                                     criterion=ArbolFinal.best_params_.get('model__criterion'),\n",
        "                                     max_depth=ArbolFinal.best_params_.get('model__max_depth'),\n",
        "                                     min_samples_split=ArbolFinal.best_params_.get('model__min_samples_split')) \n",
        " \n",
        "  mi_pipe = Pipeline(steps=[(\"PreparaInfo\", Col_Trans),(\"ModeloDecisionTree\", modeloDT2)])\n",
        "  mi_kfold = RepeatedStratifiedKFold(n_splits=5, n_repeats=3, random_state=7)  \n",
        "  delta_train_sz = np.linspace(.1, 1, 40) #Definir 20 puntos enla partición, con 20 valores entre el .1 y el  1\n",
        "  tr_sizes, tr_scores, val_scores = learning_curve(estimator = mi_pipe ,    \n",
        "                                                        X = X_entrada2,\n",
        "                                                        y = y_train,\n",
        "                                                        cv = mi_kfold ,\n",
        "                                                        train_sizes = delta_train_sz ,\n",
        "                                                        random_state=10,\n",
        "                                                        scoring=make_scorer(mi_precision))\n",
        "  mi_LearningCurvePlot(tr_sizes, tr_scores, val_scores, 'F1 Score') \n",
        "mi_curvaRF(X_train)"
      ],
      "metadata": {
        "colab": {
          "base_uri": "https://localhost:8080/",
          "height": 410
        },
        "id": "vN_Eq-W-GYnQ",
        "outputId": "82c1476c-278e-40ec-c3e8-b3d16625d873"
      },
      "execution_count": 21,
      "outputs": [
        {
          "output_type": "display_data",
          "data": {
            "text/plain": [
              "<Figure size 504x432 with 1 Axes>"
            ],
            "image/png": "[encoded data removed]"
          },
          "metadata": {}
        }
      ]
    },
    {
      "cell_type": "markdown",
      "source": [
        "###e.  \n",
        "Para el modelo de bosque aleatorio (random forest) realizar el entrenamiento buscando \n",
        "sus mejores hiperparámetros con GridSearchCV(). Los hiperparámetros que debes incluir \n",
        "en su búsqueda deben ser al menos los siguientes: ccp_alpha, criterion, max_depth, \n",
        "min_samples_split y class_weight. En este caso deberás usar la métrica (scoring) “recall”. \n",
        "Imprime la mejor combinación de parámetros obtenidos, así como el valor del mejor \n",
        "desempeño (score) obtenido con la métrica “recall”. ¿Cuál es la utilidad de la métrica \n",
        "“recall”? Incluye tus conclusiones.  \n",
        "* NOTA: Toma en cuenta que el método de random forest pude tardar varios minutos en \n",
        "llevar a cabo  "
      ],
      "metadata": {
        "id": "Km_o7nZBr7E3"
      }
    },
    {
      "cell_type": "code",
      "source": [
        "# utilizar el GridCV\n",
        "\n",
        "modelo_CV = RandomForestClassifier() # bosque aleatorio\n",
        "mi_pipeCV = Pipeline(steps=[(\"PreparaInfo\", Col_Trans),(\"model\", modelo_CV)])\n",
        "mi_kfoldCV = RepeatedStratifiedKFold(n_splits=5, n_repeats=3, random_state=7)\n",
        "\n",
        "ParametrosGRRF = {'model__ccp_alpha':[0.01, 0.001, .0001, .00001],\n",
        "              'model__criterion': ['gini', 'entropy'],\n",
        "              'model__max_depth':[2, 4, 6, 8, 10, 12],\n",
        "              'model__min_samples_split':[2, 4, 6,8,10],\n",
        "              'model__class_weight': ['balanced', None]}\n",
        "\n",
        "BosqueFinal=  GridSearchCV (estimator =  mi_pipeCV, \n",
        "                            param_grid = ParametrosGRRF,\n",
        "                            scoring = make_scorer(mi_recall),\n",
        "                            cv = mi_kfoldCV)\n",
        "\n",
        "BosqueFinal.fit(X_train, np.ravel(y_train))"
      ],
      "metadata": {
        "colab": {
          "base_uri": "https://localhost:8080/",
          "height": 0
        },
        "id": "6ItQP39lGYkl",
        "outputId": "ec367bb7-4304-42bf-bb84-aec668fe0647"
      },
      "execution_count": 22,
      "outputs": [
        {
          "output_type": "execute_result",
          "data": {
            "text/plain": [
              "GridSearchCV(cv=RepeatedStratifiedKFold(n_repeats=3, n_splits=5, random_state=7),\n",
              "             estimator=Pipeline(steps=[('PreparaInfo',\n",
              "                                        ColumnTransformer(remainder='passthrough',\n",
              "                                                          transformers=[('numericas',\n",
              "                                                                         Pipeline(steps=[('impMean',\n",
              "                                                                                          SimpleImputer(strategy='median')),\n",
              "                                                                                         ('scalar',\n",
              "                                                                                          MinMaxScaler(feature_range=(1,\n",
              "                                                                                                                      2)))]),\n",
              "                                                                         ['duration',\n",
              "                                                                          'amount',\n",
              "                                                                          'age']),\n",
              "                                                                        ('categoricas',\n",
              "                                                                         Pipeline(...\n",
              "                                                                                          OneHotEncoder(handle_unknown='ignore'))]),\n",
              "                                                                         ['people_liable',\n",
              "                                                                          'telephone',\n",
              "                                                                          'foreign_worker'])])),\n",
              "                                       ('model', RandomForestClassifier())]),\n",
              "             param_grid={'model__ccp_alpha': [0.01, 0.001, 0.0001, 1e-05],\n",
              "                         'model__class_weight': ['balanced', None],\n",
              "                         'model__criterion': ['gini', 'entropy'],\n",
              "                         'model__max_depth': [2, 4, 6, 8, 10, 12],\n",
              "                         'model__min_samples_split': [2, 4, 6, 8, 10]},\n",
              "             scoring=make_scorer(mi_recall))"
            ]
          },
          "metadata": {},
          "execution_count": 22
        }
      ]
    },
    {
      "cell_type": "code",
      "source": [
        "#Imprimir los mejores valores\n",
        "print(\"best_score:\", BosqueFinal.best_score_)\n",
        "print(\"best_param:\", BosqueFinal.best_params_)"
      ],
      "metadata": {
        "id": "UjChd1r2GYhs",
        "colab": {
          "base_uri": "https://localhost:8080/",
          "height": 0
        },
        "outputId": "0c29e385-6b1e-4559-b816-b857bbadc901"
      },
      "execution_count": 23,
      "outputs": [
        {
          "output_type": "stream",
          "name": "stdout",
          "text": [
            "best_score: 1.0\n",
            "best_param: {'model__ccp_alpha': 0.01, 'model__class_weight': None, 'model__criterion': 'gini', 'model__max_depth': 2, 'model__min_samples_split': 2}\n"
          ]
        }
      ]
    },
    {
      "cell_type": "markdown",
      "source": [
        "Conclusión:\n",
        "\n",
        "La metrica de recall nos sirve para saber cuantos valores positivos son correctamente clasificados"
      ],
      "metadata": {
        "id": "w_ielg0K-hOo"
      }
    },
    {
      "cell_type": "markdown",
      "source": [
        "###f.  \n",
        "Con los mejores valores de los hiperparámetros encontrados con la métrica “recall” para \n",
        "el modelo de bosque aleatorio, obtener las curvas de validación (validation curve), \n",
        "incrementando la complejidad del modelo a través del hiperparámetro “max_depth” con \n",
        "al menos 10 valores. Si lo crees adecuado, puedes hacer los ajustes que consideres \n",
        "adecuados para mejorar el resultado y evitar el sobreentrenamiento o el \n",
        "subentrenamiento. "
      ],
      "metadata": {
        "id": "ApqWvmtIr7Ak"
      }
    },
    {
      "cell_type": "code",
      "source": [
        "modeloRF = RandomForestClassifier(ccp_alpha=BosqueFinal.best_params_.get('model__ccp_alpha'),\n",
        "                                 criterion=BosqueFinal.best_params_.get('model__criterion'),\n",
        "                                 max_depth=10, ##Pide al menos 10 BosqueFinal.best_params_.get('model__max_depth'),\n",
        "                                 min_samples_split=BosqueFinal.best_params_.get('model__min_samples_split')) \n",
        "\n",
        "mi_pipe = Pipeline(steps=[(\"PreparaInfo\", Col_Trans),(\"ModeloRandomForest\", modeloRF)])\n",
        "mi_kfold = RepeatedStratifiedKFold(n_splits=5, n_repeats=3) \n",
        "delta_train_sz = np.linspace(1,20,20, dtype=int) \n",
        "\n",
        "\n",
        "tr_scores, val_scores = validation_curve(n_jobs = 2, \n",
        "                                  estimator = mi_pipe, \n",
        "                                  X = X_train,\n",
        "                                  y = np.ravel(y_train),\n",
        "                                  param_name = f\"ModeloRandomForest__max_depth\", \n",
        "                                  param_range = delta_train_sz,\n",
        "                                  cv = mi_kfold, \n",
        "                                  scoring = 'recall')\n",
        "\n",
        "mi_LearningCurvePlot(delta_train_sz, tr_scores, val_scores, 'F1 Score')"
      ],
      "metadata": {
        "id": "fHZzYUxSGYex",
        "colab": {
          "base_uri": "https://localhost:8080/",
          "height": 410
        },
        "outputId": "1a5b407f-71d6-4d6d-d2c5-08a0540583e7"
      },
      "execution_count": 24,
      "outputs": [
        {
          "output_type": "display_data",
          "data": {
            "text/plain": [
              "<Figure size 504x432 with 1 Axes>"
            ],
            "image/png": "[encoded data removed]"
          },
          "metadata": {}
        }
      ]
    },
    {
      "cell_type": "markdown",
      "source": [
        "#**Ejercicio-6.**"
      ],
      "metadata": {
        "id": "W2S7LI0NC9wE"
      }
    },
    {
      "cell_type": "markdown",
      "source": [
        "Para cada uno de estos tres modelos, con las métricas que se consideraron en cada caso y usando \n",
        "el conjunto de Prueba que no has utilizado hasta ahora, obtener los modelos finales como se te \n",
        "indica a continuación. Deberás usar además como conjunto de entrenamiento el llamado modelo \n",
        "de entrenamiento “aumentado” que consiste en las datos que estuviste utilizando para \n",
        "entrenamiento y validación:  "
      ],
      "metadata": {
        "id": "SrD4gre4sUC-"
      }
    },
    {
      "cell_type": "markdown",
      "source": [
        "###a.  \n",
        "Obtener el  modelo de regresión logística con los mejores parámetros que hayas \n",
        "encontrado con la métrica f1-score utilizada. Imprimir el valor de dicha métrica e incluye \n",
        "tus conclusiones finales para este caso. Incluir un gráfico del árbol de decisión final \n",
        "obtenido. "
      ],
      "metadata": {
        "id": "j-YLnzaqsTVQ"
      }
    },
    {
      "cell_type": "code",
      "source": [
        "optimal_estimator = gridFinal.best_estimator_\n",
        "predictions = optimal_estimator.predict(X_test)\n",
        "print(\"Métrica f1-score: %.3f \\n\" %(mi_f1_score(y_test, predictions)))"
      ],
      "metadata": {
        "id": "x6uBleJUC_AU",
        "colab": {
          "base_uri": "https://localhost:8080/",
          "height": 0
        },
        "outputId": "f1759117-ae04-4816-918f-0e40cab90a6f"
      },
      "execution_count": 25,
      "outputs": [
        {
          "output_type": "stream",
          "name": "stdout",
          "text": [
            "Métrica f1-score: 0.860 \n",
            "\n"
          ]
        }
      ]
    },
    {
      "cell_type": "markdown",
      "source": [
        "###b.  \n",
        "Obtener el  modelo de árbol de decisiones con los mejores parámetros que hayas \n",
        "encontrado con la métrica “precision” utilizada. Imprimir el valor de dicha métrica e \n",
        "incluye tus conclusiones finales para este caso.  "
      ],
      "metadata": {
        "id": "yL17ovxpsTSt"
      }
    },
    {
      "cell_type": "code",
      "source": [
        "optimal_estimator = ArbolFinal.best_estimator_\n",
        "\n",
        "predictions = optimal_estimator.predict(X_test)\n",
        "print(\"Métrica “precision”: %.3f \\n\" %(mi_precision(y_test, predictions)))\n",
        "plt.figure(figsize=(18,8))\n",
        "tree.plot_tree(optimal_estimator.named_steps[\"model\"], filled = True, fontsize=12)"
      ],
      "metadata": {
        "id": "n0P_AcyjC_Dh",
        "colab": {
          "base_uri": "https://localhost:8080/",
          "height": 622
        },
        "outputId": "a6156250-a339-4264-c706-da1072f843ef"
      },
      "execution_count": 32,
      "outputs": [
        {
          "output_type": "stream",
          "name": "stdout",
          "text": [
            "Métrica “precision”: 0.922 \n",
            "\n"
          ]
        },
        {
          "output_type": "execute_result",
          "data": {
            "text/plain": [
              "[Text(0.5, 0.8333333333333334, 'X[6] <= 0.5\\nentropy = 1.0\\nsamples = 850\\nvalue = [425.0, 425.0]'),\n",
              " Text(0.25, 0.5, 'X[0] <= 1.33\\nentropy = 0.958\\nsamples = 520\\nvalue = [356.667, 218.571]'),\n",
              " Text(0.125, 0.16666666666666666, 'entropy = 0.998\\nsamples = 311\\nvalue = [168.333, 150.0]'),\n",
              " Text(0.375, 0.16666666666666666, 'entropy = 0.837\\nsamples = 209\\nvalue = [188.333, 68.571]'),\n",
              " Text(0.75, 0.5, 'X[48] <= 3.5\\nentropy = 0.809\\nsamples = 330\\nvalue = [68.333, 206.429]'),\n",
              " Text(0.625, 0.16666666666666666, 'entropy = 0.94\\nsamples = 172\\nvalue = [55.0, 99.286]'),\n",
              " Text(0.875, 0.16666666666666666, 'entropy = 0.502\\nsamples = 158\\nvalue = [13.333, 107.143]')]"
            ]
          },
          "metadata": {},
          "execution_count": 32
        },
        {
          "output_type": "display_data",
          "data": {
            "text/plain": [
              "<Figure size 1296x576 with 1 Axes>"
            ],
            "image/png": "[encoded data removed]"
          },
          "metadata": {}
        }
      ]
    },
    {
      "cell_type": "markdown",
      "source": [
        "Conclusión:\n",
        "\n",
        "El modelo de árbol de decisión que resultó de la selección del modelo más óptimo resulto en dos niveles y balanceado, se obtuvo una precisión 96% lo que significa que es adecuado para determinar créditos que mitiguen riesgos, la distribución natural del modelo es de 70% de buenos créditos\n"
      ],
      "metadata": {
        "id": "8mrPEUhUPpTc"
      }
    },
    {
      "cell_type": "markdown",
      "source": [
        "c.   Obtener el  modelo de bosque aleatorio con los mejores parámetros que hayas \n",
        "encontrado con la métrica “recall” utilizada. Imprimir el valor de dicha métrica e incluye \n",
        "tus conclusiones finales para este caso.  "
      ],
      "metadata": {
        "id": "TZ-UkKFRsTQA"
      }
    },
    {
      "cell_type": "code",
      "source": [
        "better_forest  = BosqueFinal.best_estimator_\n",
        "predicted_forest = better_forest.predict(X_test)\n",
        "\n",
        "print(\"Métrica recall: %.3f \\n\" %(mi_recall(y_test, predicted_forest)))"
      ],
      "metadata": {
        "colab": {
          "base_uri": "https://localhost:8080/",
          "height": 0
        },
        "id": "ACYK402eZKs3",
        "outputId": "c6bc1b65-bd23-43f7-ae8c-93c059af17fa"
      },
      "execution_count": 27,
      "outputs": [
        {
          "output_type": "stream",
          "name": "stdout",
          "text": [
            "Métrica recall: 1.000 \n",
            "\n"
          ]
        }
      ]
    },
    {
      "cell_type": "markdown",
      "source": [
        "Conclusión\n",
        "\n",
        "Dado que el recall es igual a 1 podemos decir que todos los valores postivos estan siendo correctamente calificados"
      ],
      "metadata": {
        "id": "W8GntahFRByr"
      }
    },
    {
      "cell_type": "markdown",
      "source": [
        "#**Fin de la Actividad de la semana 6.**"
      ],
      "metadata": {
        "id": "7ql_r2G-DB_m"
      }
    },
    {
      "cell_type": "code",
      "source": [],
      "metadata": {
        "id": "g-hG_HuLtkbM"
      },
      "execution_count": 27,
      "outputs": []
    }
  ]
}